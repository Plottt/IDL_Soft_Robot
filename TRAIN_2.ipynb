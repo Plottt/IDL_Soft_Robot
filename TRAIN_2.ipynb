{
  "cells": [
    {
      "cell_type": "code",
      "execution_count": 1,
      "metadata": {
        "colab": {
          "base_uri": "https://localhost:8080/"
        },
        "id": "so2Ihy3KKMb6",
        "outputId": "2cde86d3-875c-4e7d-cb6b-2efb487274b9"
      },
      "outputs": [
        {
          "name": "stdout",
          "output_type": "stream",
          "text": [
            "Device:  mps\n"
          ]
        }
      ],
      "source": [
        "import pandas as pd\n",
        "import numpy as np\n",
        "from pathlib import Path\n",
        "from typing import List, Tuple, Dict\n",
        "import torch\n",
        "from torch.utils.data import Dataset, DataLoader\n",
        "import re\n",
        "import torch\n",
        "import torch.nn as nn\n",
        "import torch.optim as optim\n",
        "from torch.utils.data import DataLoader, random_split\n",
        "import numpy as np\n",
        "import matplotlib.pyplot as plt\n",
        "from pathlib import Path\n",
        "import os\n",
        "from torchsummary import summary\n",
        "from torchinfo import summary\n",
        "from tqdm import tqdm\n",
        "from sklearn.metrics import confusion_matrix\n",
        "import wandb\n",
        "import torch.nn.functional as F\n",
        "import hashlib\n",
        "from typing import Dict, Tuple\n",
        "import random\n",
        "\n",
        "device = 'mps' if torch.backends.mps.is_available() else 'cpu'\n",
        "print(\"Device: \", device)"
      ]
    },
    {
      "cell_type": "code",
      "execution_count": 2,
      "metadata": {
        "colab": {
          "base_uri": "https://localhost:8080/"
        },
        "id": "lHpFZC4vKPdS",
        "outputId": "78959d61-9bf3-468a-93b2-372ee4a0727b"
      },
      "outputs": [],
      "source": [
        "# from google.colab import drive\n",
        "# drive.mount('/content/drive')"
      ]
    },
    {
      "cell_type": "code",
      "execution_count": 3,
      "metadata": {
        "id": "vH6wKOAvKMb-"
      },
      "outputs": [],
      "source": [
        "# Configuration Dictionary\n",
        "config = {\n",
        "    'batch_size': 32,\n",
        "    'lr': 0.0001,\n",
        "    'epochs': 10,\n",
        "    'input_dim': 9,\n",
        "    'num_classes': 7,\n",
        "    'hidden_dim': 256,\n",
        "    'num_blocks': 3,\n",
        "    'checkpoint_dir': \"/Users/benlee/Documents/college/CMU/Spring 2025/IDL/Project/IDL_code/checkpoint\",\n",
        "    'device': 'mps' if torch.backends.mps.is_available() else 'cpu'\n",
        "}"
      ]
    },
    {
      "cell_type": "code",
      "execution_count": 4,
      "metadata": {
        "id": "5H88G2o5KMb-"
      },
      "outputs": [],
      "source": [
        "# Define category mapping\n",
        "CATEGORIES = {\n",
        "    'Blueball': 0,\n",
        "    'Box': 1,\n",
        "    'Pencilcase': 2,\n",
        "    'Pinkball': 3,\n",
        "    'StuffedAnimal': 4,\n",
        "    'Tennis': 5,\n",
        "    'Waterbottle': 6,\n",
        "}"
      ]
    },
    {
      "cell_type": "code",
      "execution_count": 5,
      "metadata": {
        "id": "MuINLJVKKMb_"
      },
      "outputs": [],
      "source": [
        "# Path to the folder containing the dataset files\n",
        "folder_path = \"/Users/benlee/Documents/college/CMU/Spring 2025/IDL/Project/IDL_code/IDL_Data\""
      ]
    },
    {
      "cell_type": "code",
      "execution_count": 6,
      "metadata": {
        "id": "qXeSE84nKMb_"
      },
      "outputs": [],
      "source": [
        "# Stats trackers\n",
        "total_count = 0\n",
        "kept_count = 0\n",
        "valid_file_count = 0\n",
        "skipped_due_to_missing_waypoints = 0"
      ]
    },
    {
      "cell_type": "code",
      "execution_count": 7,
      "metadata": {
        "id": "FWAborBwKMb_"
      },
      "outputs": [],
      "source": [
        "WAYPOINTS = [\n",
        "    (30, -30), (30, 30), (15, -30), (15, 30),\n",
        "    (0, -30), (0, 30), (-15, -30), (-15, 30),\n",
        "    (-30, -30), (-30, 30), (-30, -30), (30, -30),\n",
        "    (30, 30), (-30, 30)\n",
        "]\n"
      ]
    },
    {
      "cell_type": "code",
      "execution_count": 8,
      "metadata": {
        "id": "zVuq0D5TKMb_"
      },
      "outputs": [],
      "source": [
        "# Step 1: Load and label dataset\n",
        "def load_and_label_file(file_path, file_name):\n",
        "    global total_count\n",
        "    category = next((key for key in CATEGORIES if key in file_name), None)\n",
        "    if category is None:\n",
        "        return pd.DataFrame()\n",
        "\n",
        "    data = []\n",
        "    with open(file_path, \"r\") as f:\n",
        "        for line in f:\n",
        "            parts = line.strip().split(',')\n",
        "            if len(parts) == 10:\n",
        "                try:\n",
        "                    timestamp = parts[0]\n",
        "                    microsec = int(parts[1])\n",
        "                    x = float(parts[2])\n",
        "                    y = float(parts[3])\n",
        "                    x_target = float(parts[4])\n",
        "                    y_target = float(parts[5])\n",
        "                    pwm1 = int(parts[6])\n",
        "                    pwm2 = int(parts[7])\n",
        "                    pwm3 = int(parts[8])\n",
        "                    pwm4 = int(parts[9])\n",
        "                    total_count += 1\n",
        "\n",
        "                    data.append([\n",
        "                        timestamp, microsec, x, y, x_target, y_target,\n",
        "                        pwm1, pwm2, pwm3, pwm4, category, CATEGORIES[category]\n",
        "                    ])\n",
        "                except ValueError:\n",
        "                    continue\n",
        "\n",
        "    return pd.DataFrame(data, columns=[\n",
        "        \"timestamp\", \"microseconds\", \"x\", \"y\", \"x_target\", \"y_target\",\n",
        "        \"pwm1\", \"pwm2\", \"pwm3\", \"pwm4\", \"category\", \"label\"\n",
        "    ])"
      ]
    },
    {
      "cell_type": "code",
      "execution_count": 9,
      "metadata": {
        "id": "naFDKYoGKMb_"
      },
      "outputs": [],
      "source": [
        "# Step 2: Assign sequential waypoint numbers\n",
        "def assign_sequential_waypoints(df, tol=1.0):\n",
        "    df = df.reset_index(drop=True)\n",
        "    wp_index = 0\n",
        "    assigned_wp = []\n",
        "\n",
        "    for i in range(len(df)):\n",
        "        x_t, y_t = df.loc[i, \"x_target\"], df.loc[i, \"y_target\"]\n",
        "        current_expected = WAYPOINTS[wp_index]\n",
        "\n",
        "        if np.isclose(x_t, current_expected[0], atol=tol) and np.isclose(y_t, current_expected[1], atol=tol):\n",
        "            assigned_wp.append(wp_index)\n",
        "        else:\n",
        "            if wp_index + 1 < len(WAYPOINTS):\n",
        "                next_expected = WAYPOINTS[wp_index + 1]\n",
        "                if np.isclose(x_t, next_expected[0], atol=tol) and np.isclose(y_t, next_expected[1], atol=tol):\n",
        "                    wp_index += 1\n",
        "                    assigned_wp.append(wp_index)\n",
        "                else:\n",
        "                    assigned_wp.append(wp_index)\n",
        "            else:\n",
        "                assigned_wp.append(wp_index)\n",
        "\n",
        "    df[\"waypoint_number\"] = assigned_wp\n",
        "    return df"
      ]
    },
    {
      "cell_type": "code",
      "execution_count": 10,
      "metadata": {
        "id": "MfXzeHC4KMb_"
      },
      "outputs": [],
      "source": [
        "# Step 3: Filter out rows where y <= 0\n",
        "def filter_by_y(df):\n",
        "    global kept_count\n",
        "    filtered = df[df[\"y\"] > 0].reset_index(drop=True)\n",
        "    kept_count += len(filtered)\n",
        "    return filtered"
      ]
    },
    {
      "cell_type": "code",
      "execution_count": 11,
      "metadata": {
        "id": "Ogu08rbDKMcA"
      },
      "outputs": [],
      "source": [
        "def process_file(file_path, file_name):\n",
        "    global valid_file_count\n",
        "\n",
        "    # Step 1: Load and label\n",
        "    df = load_and_label_file(file_path, file_name)\n",
        "    if df.empty:\n",
        "        return pd.DataFrame()\n",
        "\n",
        "    # Step 2: Assign waypoint numbers\n",
        "    df = assign_sequential_waypoints(df)\n",
        "\n",
        "    # 📌 Show how many waypoints existed before filtering\n",
        "    waypoint_count_before = df[\"waypoint_number\"].nunique()\n",
        "    print(f\"\\n📌 {file_name} → {waypoint_count_before} waypoints BEFORE filtering\")\n",
        "\n",
        "    # Step 3: Filter out rows where y ≤ 0\n",
        "    df = filter_by_y(df)\n",
        "\n",
        "    # 📌 Show how many remain after filtering\n",
        "    waypoint_count_after = df[\"waypoint_number\"].nunique()\n",
        "    print(f\"📌 {file_name} → {waypoint_count_after} waypoints AFTER filtering\")\n",
        "\n",
        "    # Count as valid if any data was kept\n",
        "    if not df.empty:\n",
        "        valid_file_count += 1\n",
        "\n",
        "    return df"
      ]
    },
    {
      "cell_type": "code",
      "execution_count": 12,
      "metadata": {
        "colab": {
          "base_uri": "https://localhost:8080/"
        },
        "id": "7CBO_ta8KMcA",
        "outputId": "d10311ee-e352-41b3-d3b7-1ef0500aea43"
      },
      "outputs": [],
      "source": [
        "# # Step 5: Process all .txt files\n",
        "# all_data = pd.DataFrame()\n",
        "\n",
        "# for file_name in os.listdir(folder_path):\n",
        "#     if not file_name.endswith(\".txt\") or file_name.startswith(\".\"):\n",
        "#         continue\n",
        "#     file_path = os.path.join(folder_path, file_name)\n",
        "#     df = process_file(file_path, file_name)\n",
        "#     if not df.empty:\n",
        "#         all_data = pd.concat([all_data, df], ignore_index=True)\n",
        "\n",
        "# # Step 6: Summary\n",
        "# print(\"\\n📄 Summary:\")\n",
        "# print(f\"Total files scanned: {len([f for f in os.listdir(folder_path) if f.endswith('.txt')])}\")\n",
        "# print(f\"✅ Files with 14 valid waypoints: {valid_file_count}\")\n",
        "# print(f\"⚠️ Skipped due to missing waypoints: {skipped_due_to_missing_waypoints}\")\n",
        "# print(f\"📊 Data points before filtering: {total_count}\")\n",
        "# print(f\"✅ Data points after filtering: {kept_count}\")\n",
        "# print(f\"🚫 Dropped data points: {total_count - kept_count}\")"
      ]
    },
    {
      "cell_type": "code",
      "execution_count": 13,
      "metadata": {
        "colab": {
          "base_uri": "https://localhost:8080/"
        },
        "id": "B8u06Sh1KMcA",
        "outputId": "fc1a126d-1ca3-4053-f44e-227448a54584"
      },
      "outputs": [],
      "source": [
        "# print(all_data.head(1350))"
      ]
    },
    {
      "cell_type": "code",
      "execution_count": 14,
      "metadata": {
        "id": "yuHhrzRwKMcB"
      },
      "outputs": [],
      "source": [
        "import torch\n",
        "from torch.utils.data import Dataset, DataLoader\n",
        "from sklearn.model_selection import train_test_split\n",
        "from sklearn.preprocessing import StandardScaler\n",
        "from tqdm import tqdm\n",
        "import pandas as pd\n",
        "import numpy as np"
      ]
    },
    {
      "cell_type": "code",
      "execution_count": 15,
      "metadata": {},
      "outputs": [
        {
          "name": "stdout",
          "output_type": "stream",
          "text": [
            "🔍 Per-class file counts:\n",
            "  Blueball        → 10 total files\n",
            "  Box             → 10 total files\n",
            "  Pencilcase      → 9 total files\n",
            "  Pinkball        → 11 total files\n",
            "  StuffedAnimal   → 7 total files\n",
            "  Tennis          → 10 total files\n",
            "  Waterbottle     → 10 total files\n",
            "\n",
            "✅ Final split file counts:\n",
            "Train: 45\n",
            "Val:   8\n",
            "Test:  14\n",
            "\n",
            "📌 Pencilcase2.txt → 14 waypoints BEFORE filtering\n",
            "📌 Pencilcase2.txt → 13 waypoints AFTER filtering\n",
            "\n",
            "📌 Pencilcase1.txt → 14 waypoints BEFORE filtering\n",
            "📌 Pencilcase1.txt → 12 waypoints AFTER filtering\n",
            "\n",
            "📌 Pencilcase8.txt → 14 waypoints BEFORE filtering\n",
            "📌 Pencilcase8.txt → 12 waypoints AFTER filtering\n",
            "\n",
            "📌 Pencilcase10.txt → 14 waypoints BEFORE filtering\n",
            "📌 Pencilcase10.txt → 12 waypoints AFTER filtering\n",
            "\n",
            "📌 Pencilcase9.txt → 14 waypoints BEFORE filtering\n",
            "📌 Pencilcase9.txt → 12 waypoints AFTER filtering\n",
            "\n",
            "📌 Pencilcase6.txt → 14 waypoints BEFORE filtering\n",
            "📌 Pencilcase6.txt → 12 waypoints AFTER filtering\n",
            "\n",
            "📌 Tennis1.txt → 14 waypoints BEFORE filtering\n",
            "📌 Tennis1.txt → 13 waypoints AFTER filtering\n",
            "\n",
            "📌 Tennis10.txt → 14 waypoints BEFORE filtering\n",
            "📌 Tennis10.txt → 12 waypoints AFTER filtering\n",
            "\n",
            "📌 Tennis3.txt → 14 waypoints BEFORE filtering\n",
            "📌 Tennis3.txt → 13 waypoints AFTER filtering\n",
            "\n",
            "📌 Tennis4.txt → 14 waypoints BEFORE filtering\n",
            "📌 Tennis4.txt → 13 waypoints AFTER filtering\n",
            "\n",
            "📌 Tennis2.txt → 14 waypoints BEFORE filtering\n",
            "📌 Tennis2.txt → 13 waypoints AFTER filtering\n",
            "\n",
            "📌 Tennis7.txt → 14 waypoints BEFORE filtering\n",
            "📌 Tennis7.txt → 12 waypoints AFTER filtering\n",
            "\n",
            "📌 Tennis9.txt → 14 waypoints BEFORE filtering\n",
            "📌 Tennis9.txt → 12 waypoints AFTER filtering\n",
            "\n",
            "📌 Pinkball11.txt → 14 waypoints BEFORE filtering\n",
            "📌 Pinkball11.txt → 12 waypoints AFTER filtering\n",
            "\n",
            "📌 Pinkball6.txt → 14 waypoints BEFORE filtering\n",
            "📌 Pinkball6.txt → 13 waypoints AFTER filtering\n",
            "\n",
            "📌 Pinkball3.txt → 14 waypoints BEFORE filtering\n",
            "📌 Pinkball3.txt → 13 waypoints AFTER filtering\n",
            "\n",
            "📌 Pinkball1.txt → 14 waypoints BEFORE filtering\n",
            "📌 Pinkball1.txt → 12 waypoints AFTER filtering\n",
            "\n",
            "📌 Pinkball4.txt → 14 waypoints BEFORE filtering\n",
            "📌 Pinkball4.txt → 13 waypoints AFTER filtering\n",
            "\n",
            "📌 Pinkball9.txt → 14 waypoints BEFORE filtering\n",
            "📌 Pinkball9.txt → 12 waypoints AFTER filtering\n",
            "\n",
            "📌 Pinkball2.txt → 14 waypoints BEFORE filtering\n",
            "📌 Pinkball2.txt → 13 waypoints AFTER filtering\n",
            "\n",
            "📌 StuffedAnimal9.txt → 14 waypoints BEFORE filtering\n",
            "📌 StuffedAnimal9.txt → 12 waypoints AFTER filtering\n",
            "\n",
            "📌 StuffedAnimal4.txt → 14 waypoints BEFORE filtering\n",
            "📌 StuffedAnimal4.txt → 13 waypoints AFTER filtering\n",
            "\n",
            "📌 StuffedAnimal8.txt → 14 waypoints BEFORE filtering\n",
            "📌 StuffedAnimal8.txt → 12 waypoints AFTER filtering\n",
            "\n",
            "📌 StuffedAnimal3.txt → 14 waypoints BEFORE filtering\n",
            "📌 StuffedAnimal3.txt → 13 waypoints AFTER filtering\n",
            "\n",
            "📌 Blueball2.txt → 14 waypoints BEFORE filtering\n",
            "📌 Blueball2.txt → 13 waypoints AFTER filtering\n",
            "\n",
            "📌 Blueball1.txt → 14 waypoints BEFORE filtering\n",
            "📌 Blueball1.txt → 13 waypoints AFTER filtering\n",
            "\n",
            "📌 Blueball4.txt → 14 waypoints BEFORE filtering\n",
            "📌 Blueball4.txt → 13 waypoints AFTER filtering\n",
            "\n",
            "📌 Blueball7.txt → 14 waypoints BEFORE filtering\n",
            "📌 Blueball7.txt → 12 waypoints AFTER filtering\n",
            "\n",
            "📌 Blueball8.txt → 14 waypoints BEFORE filtering\n",
            "📌 Blueball8.txt → 12 waypoints AFTER filtering\n",
            "\n",
            "📌 Blueball10.txt → 14 waypoints BEFORE filtering\n",
            "📌 Blueball10.txt → 12 waypoints AFTER filtering\n",
            "\n",
            "📌 Blueball6.txt → 14 waypoints BEFORE filtering\n",
            "📌 Blueball6.txt → 13 waypoints AFTER filtering\n",
            "\n",
            "📌 Box2.txt → 14 waypoints BEFORE filtering\n",
            "📌 Box2.txt → 13 waypoints AFTER filtering\n",
            "\n",
            "📌 Box9.txt → 14 waypoints BEFORE filtering\n",
            "📌 Box9.txt → 12 waypoints AFTER filtering\n",
            "\n",
            "📌 Box3.txt → 14 waypoints BEFORE filtering\n",
            "📌 Box3.txt → 13 waypoints AFTER filtering\n",
            "\n",
            "📌 Box4.txt → 14 waypoints BEFORE filtering\n",
            "📌 Box4.txt → 13 waypoints AFTER filtering\n",
            "\n",
            "📌 Box1.txt → 14 waypoints BEFORE filtering\n",
            "📌 Box1.txt → 12 waypoints AFTER filtering\n",
            "\n",
            "📌 Box10.txt → 14 waypoints BEFORE filtering\n",
            "📌 Box10.txt → 12 waypoints AFTER filtering\n",
            "\n",
            "📌 Box5.txt → 14 waypoints BEFORE filtering\n",
            "📌 Box5.txt → 12 waypoints AFTER filtering\n",
            "\n",
            "📌 Waterbottle4.txt → 14 waypoints BEFORE filtering\n",
            "📌 Waterbottle4.txt → 13 waypoints AFTER filtering\n",
            "\n",
            "📌 Waterbottle3.txt → 14 waypoints BEFORE filtering\n",
            "📌 Waterbottle3.txt → 13 waypoints AFTER filtering\n",
            "\n",
            "📌 Waterbottle1.txt → 14 waypoints BEFORE filtering\n",
            "📌 Waterbottle1.txt → 13 waypoints AFTER filtering\n",
            "\n",
            "📌 Waterbottle7.txt → 14 waypoints BEFORE filtering\n",
            "📌 Waterbottle7.txt → 12 waypoints AFTER filtering\n",
            "\n",
            "📌 Waterbottle2.txt → 14 waypoints BEFORE filtering\n",
            "📌 Waterbottle2.txt → 13 waypoints AFTER filtering\n",
            "\n",
            "📌 Waterbottle5.txt → 14 waypoints BEFORE filtering\n",
            "📌 Waterbottle5.txt → 13 waypoints AFTER filtering\n",
            "\n",
            "📌 Waterbottle8.txt → 14 waypoints BEFORE filtering\n",
            "📌 Waterbottle8.txt → 12 waypoints AFTER filtering\n",
            "\n",
            "📌 Pencilcase3.txt → 14 waypoints BEFORE filtering\n",
            "📌 Pencilcase3.txt → 13 waypoints AFTER filtering\n",
            "\n",
            "📌 Tennis6.txt → 14 waypoints BEFORE filtering\n",
            "📌 Tennis6.txt → 12 waypoints AFTER filtering\n",
            "\n",
            "📌 Pinkball7.txt → 14 waypoints BEFORE filtering\n",
            "📌 Pinkball7.txt → 12 waypoints AFTER filtering\n",
            "\n",
            "📌 Pinkball8.txt → 14 waypoints BEFORE filtering\n",
            "📌 Pinkball8.txt → 12 waypoints AFTER filtering\n",
            "\n",
            "📌 StuffedAnimal1.txt → 14 waypoints BEFORE filtering\n",
            "📌 StuffedAnimal1.txt → 13 waypoints AFTER filtering\n",
            "\n",
            "📌 Blueball3.txt → 14 waypoints BEFORE filtering\n",
            "📌 Blueball3.txt → 13 waypoints AFTER filtering\n",
            "\n",
            "📌 Box6.txt → 14 waypoints BEFORE filtering\n",
            "📌 Box6.txt → 12 waypoints AFTER filtering\n",
            "\n",
            "📌 Waterbottle9.txt → 14 waypoints BEFORE filtering\n",
            "📌 Waterbottle9.txt → 12 waypoints AFTER filtering\n",
            "\n",
            "📌 Pencilcase4.txt → 14 waypoints BEFORE filtering\n",
            "📌 Pencilcase4.txt → 13 waypoints AFTER filtering\n",
            "\n",
            "📌 Pencilcase5.txt → 14 waypoints BEFORE filtering\n",
            "📌 Pencilcase5.txt → 13 waypoints AFTER filtering\n",
            "\n",
            "📌 Tennis8.txt → 14 waypoints BEFORE filtering\n",
            "📌 Tennis8.txt → 12 waypoints AFTER filtering\n",
            "\n",
            "📌 Tennis5.txt → 14 waypoints BEFORE filtering\n",
            "📌 Tennis5.txt → 13 waypoints AFTER filtering\n",
            "\n",
            "📌 Pinkball5.txt → 14 waypoints BEFORE filtering\n",
            "📌 Pinkball5.txt → 13 waypoints AFTER filtering\n",
            "\n",
            "📌 Pinkball10.txt → 14 waypoints BEFORE filtering\n",
            "📌 Pinkball10.txt → 12 waypoints AFTER filtering\n",
            "\n",
            "📌 StuffedAnimal2.txt → 14 waypoints BEFORE filtering\n",
            "📌 StuffedAnimal2.txt → 13 waypoints AFTER filtering\n",
            "\n",
            "📌 StuffedAnimal7.txt → 14 waypoints BEFORE filtering\n",
            "📌 StuffedAnimal7.txt → 12 waypoints AFTER filtering\n",
            "\n",
            "📌 Blueball9.txt → 14 waypoints BEFORE filtering\n",
            "📌 Blueball9.txt → 12 waypoints AFTER filtering\n",
            "\n",
            "📌 Blueball5.txt → 14 waypoints BEFORE filtering\n",
            "📌 Blueball5.txt → 13 waypoints AFTER filtering\n",
            "\n",
            "📌 Box8.txt → 14 waypoints BEFORE filtering\n",
            "📌 Box8.txt → 12 waypoints AFTER filtering\n",
            "\n",
            "📌 Box7.txt → 14 waypoints BEFORE filtering\n",
            "📌 Box7.txt → 12 waypoints AFTER filtering\n",
            "\n",
            "📌 Waterbottle6.txt → 14 waypoints BEFORE filtering\n",
            "📌 Waterbottle6.txt → 12 waypoints AFTER filtering\n",
            "\n",
            "📌 Waterbottle10.txt → 14 waypoints BEFORE filtering\n",
            "📌 Waterbottle10.txt → 12 waypoints AFTER filtering\n"
          ]
        }
      ],
      "source": [
        "from collections import defaultdict, Counter\n",
        "\n",
        "def build_datasets(data_dir: str):\n",
        "    data_dir = Path(data_dir)\n",
        "    file_paths = list(data_dir.glob(\"*.txt\"))\n",
        "    random.seed(42)\n",
        "\n",
        "    # 1. Group files by object class\n",
        "    class_to_files = defaultdict(list)\n",
        "    for file_path in file_paths:\n",
        "        for class_name in CATEGORIES:\n",
        "            if class_name in file_path.name:\n",
        "                class_to_files[class_name].append(file_path)\n",
        "                break\n",
        "\n",
        "    # 2. Stratified split (each class in train/val/test)\n",
        "    train_files, val_files, test_files = [], [], []\n",
        "    for class_name, files in class_to_files.items():\n",
        "        random.shuffle(files)\n",
        "        n = len(files)\n",
        "        train_split = int(0.7 * n)\n",
        "        val_split = int(0.85 * n)\n",
        "        train_files += files[:train_split]\n",
        "        val_files += files[train_split:val_split]\n",
        "        test_files += files[val_split:]\n",
        "\n",
        "    print(\"🔍 Per-class file counts:\")\n",
        "    for cls in CATEGORIES:\n",
        "        print(f\"  {cls:<15} → {len(class_to_files[cls])} total files\")\n",
        "\n",
        "    print(\"\\n✅ Final split file counts:\")\n",
        "    print(f\"Train: {len(train_files)}\")\n",
        "    print(f\"Val:   {len(val_files)}\")\n",
        "    print(f\"Test:  {len(test_files)}\")\n",
        "\n",
        "    # 3. Process each split\n",
        "    def process_file_list(file_list):\n",
        "        dfs = []\n",
        "        for fp in file_list:\n",
        "            df = process_file(fp, fp.name)\n",
        "            if not df.empty:\n",
        "                dfs.append(df)\n",
        "        return pd.concat(dfs, ignore_index=True) if dfs else pd.DataFrame()\n",
        "\n",
        "    train_df = process_file_list(train_files)\n",
        "    val_df = process_file_list(val_files)\n",
        "    test_df = process_file_list(test_files)\n",
        "\n",
        "    return train_df, val_df, test_df\n",
        "\n",
        "\n",
        "# 📦 Run everything\n",
        "train_df, val_df, test_df = build_datasets(folder_path)"
      ]
    },
    {
      "cell_type": "code",
      "execution_count": 16,
      "metadata": {
        "id": "6qjmfJ-JKMcB"
      },
      "outputs": [],
      "source": [
        "# class ObjectSensorDataset(Dataset):\n",
        "#     def __init__(self, df):\n",
        "#         features = df[[\"x\", \"y\", \"x_target\", \"y_target\", \"pwm1\", \"pwm2\", \"pwm3\", \"pwm4\", \"microseconds\"]].values\n",
        "#         labels = df[\"label\"].values\n",
        "\n",
        "#         self.X = torch.tensor(features, dtype=torch.float32)\n",
        "#         self.y = torch.tensor(labels, dtype=torch.long)\n",
        "\n",
        "#     def __len__(self):\n",
        "#         return len(self.y)\n",
        "\n",
        "#     def __getitem__(self, idx):\n",
        "#         return self.X[idx], self.y[idx]"
      ]
    },
    {
      "cell_type": "code",
      "execution_count": 17,
      "metadata": {
        "id": "p13o2gWwkDee"
      },
      "outputs": [],
      "source": [
        "# # Normalize features before split\n",
        "# features_to_scale = [\"x\", \"y\", \"x_target\", \"y_target\", \"pwm1\", \"pwm2\", \"pwm3\", \"pwm4\", \"microseconds\"]\n",
        "# scaler = StandardScaler()\n",
        "# all_data[features_to_scale] = scaler.fit_transform(all_data[features_to_scale])\n",
        "\n",
        "# # 🧪 Split into train/val/test with stratified sampling\n",
        "# train_df, temp_df = train_test_split(\n",
        "#     all_data, test_size=0.3, stratify=all_data[\"label\"], random_state=42\n",
        "# )\n",
        "# val_df, test_df = train_test_split(\n",
        "#     temp_df, test_size=0.5, stratify=temp_df[\"label\"], random_state=42\n",
        "# )\n",
        "\n",
        "# # 📦 Create datasets\n",
        "# train_dataset = ObjectSensorDataset(train_df)\n",
        "# val_dataset = ObjectSensorDataset(val_df)\n",
        "# test_dataset = ObjectSensorDataset(test_df)"
      ]
    },
    {
      "cell_type": "code",
      "execution_count": 18,
      "metadata": {
        "colab": {
          "base_uri": "https://localhost:8080/"
        },
        "id": "vg1SVbqJkMaR",
        "outputId": "ec96c71a-c8f8-4b53-ab64-68b19a783714"
      },
      "outputs": [],
      "source": [
        "class WindowedDataset(torch.utils.data.Dataset):\n",
        "    def __init__(self, df: pd.DataFrame, seq_len: int = 10):\n",
        "        self.seq_len = seq_len\n",
        "        self.df = df.reset_index(drop=True)\n",
        "\n",
        "        # Select feature columns (change as needed)\n",
        "        self.features = self.df[[\n",
        "            \"x\", \"y\", \"x_target\", \"y_target\", \"pwm1\", \"pwm2\", \"pwm3\", \"pwm4\", \"waypoint_number\"\n",
        "        ]].values.astype(np.float32)\n",
        "\n",
        "        # Label per row (you can change this to majority/last of the window)\n",
        "        self.labels = self.df[\"label\"].values.astype(np.int64)\n",
        "\n",
        "    def __len__(self):\n",
        "        return len(self.df) - self.seq_len + 1\n",
        "\n",
        "    def __getitem__(self, idx):\n",
        "        x = self.features[idx:idx + self.seq_len]  # (seq_len, input_dim)\n",
        "        y = self.labels[idx + self.seq_len - 1]\n",
        "        x_tensor = torch.tensor(x, dtype=torch.float32)  # ✅ explicitly float32\n",
        "        y_tensor = torch.tensor(y, dtype=torch.long)\n",
        "        return x_tensor, y_tensor\n",
        "\n",
        "\n",
        "seq_len = 200  # adjust as needed\n",
        "\n",
        "train_dataset = WindowedDataset(train_df, seq_len=seq_len)\n",
        "val_dataset = WindowedDataset(val_df, seq_len=seq_len)\n",
        "test_dataset = WindowedDataset(test_df, seq_len=seq_len)\n",
        "\n",
        "batch_size = config[\"batch_size\"]\n",
        "\n",
        "train_loader = DataLoader(train_dataset, batch_size=batch_size, shuffle=True)\n",
        "val_loader = DataLoader(val_dataset, batch_size=batch_size, shuffle=False)\n",
        "test_loader = DataLoader(test_dataset, batch_size=batch_size, shuffle=False)\n"
      ]
    },
    {
      "cell_type": "code",
      "execution_count": 19,
      "metadata": {
        "id": "tO8htFsSKMcB"
      },
      "outputs": [],
      "source": [
        "# # 📦 Create DataLoaders\n",
        "# train_loader = DataLoader(train_dataset, batch_size=64, shuffle=True)\n",
        "# val_loader = DataLoader(val_dataset, batch_size=64, shuffle=False)\n",
        "# test_loader = DataLoader(test_dataset, batch_size=64, shuffle=False)\n",
        "\n",
        "# for X_batch, y_batch in tqdm(train_loader, desc=\"🔁 Training\"):\n",
        "#     # Simulate training step\n",
        "#     pass\n",
        "\n",
        "# for X_batch, y_batch in tqdm(val_loader, desc=\"🔍 Validating\"):\n",
        "#     # Simulate validation step\n",
        "#     pass\n",
        "\n",
        "\n",
        "# for X_batch, y_batch in tqdm(test_loader, desc=\"🧪 Testing\"):\n",
        "#     # Simulate test step\n",
        "#     pass\n",
        "\n",
        "# # 📊 Summary of dataset sizes\n",
        "# print(\"\\n📊 Dataset Sizes:\")\n",
        "# print(f\"🧠 Training set: {len(train_dataset)} samples\")\n",
        "# print(f\"🧪 Validation set: {len(val_dataset)} samples\")\n",
        "# print(f\"🧾 Test set: {len(test_dataset)} samples\")"
      ]
    },
    {
      "cell_type": "code",
      "execution_count": 20,
      "metadata": {
        "id": "FFOMZnQEm38Y"
      },
      "outputs": [],
      "source": [
        "# import torch\n",
        "# import torch.nn as nn\n",
        "# from torchinfo import summary\n",
        "\n",
        "# class TimeDistributed(nn.Module):\n",
        "#     \"\"\"Applies a module over the time dimension (B, T, F) → applies to each T.\"\"\"\n",
        "#     def __init__(self, module):\n",
        "#         super(TimeDistributed, self).__init__()\n",
        "#         self.module = module\n",
        "\n",
        "#     def forward(self, x):\n",
        "#         # x: (B, T, F)\n",
        "#         B, T, F = x.size()\n",
        "#         x = x.contiguous().view(B * T, F)\n",
        "#         x = self.module(x)\n",
        "#         x = x.view(B, T, -1)\n",
        "#         return x\n",
        "\n",
        "# class ResidualBlock(nn.Module):\n",
        "#     def __init__(self, dim):\n",
        "#         super(ResidualBlock, self).__init__()\n",
        "#         self.linear1 = TimeDistributed(nn.Linear(dim, dim))\n",
        "#         self.bn1 = TimeDistributed(nn.BatchNorm1d(dim))\n",
        "#         self.act1 = nn.ReLU()\n",
        "#         self.drop1 = nn.Dropout(0.5)\n",
        "\n",
        "#         self.linear2 = TimeDistributed(nn.Linear(dim, dim))\n",
        "#         self.bn2 = TimeDistributed(nn.BatchNorm1d(dim))\n",
        "\n",
        "#         self.relu = nn.ReLU(inplace=True)\n",
        "\n",
        "#     def forward(self, x):\n",
        "#         identity = x\n",
        "#         out = self.linear1(x)\n",
        "#         out = self.bn1(out)\n",
        "#         out = self.act1(out)\n",
        "#         out = self.drop1(out)\n",
        "\n",
        "#         out = self.linear2(out)\n",
        "#         out = self.bn2(out)\n",
        "\n",
        "#         out += identity\n",
        "#         return self.relu(out)\n",
        "\n",
        "# class ResidualMLPClassifier(nn.Module):\n",
        "#     def __init__(self, input_dim, num_classes, hidden_dim=2048, num_blocks=10):\n",
        "#         super(ResidualMLPClassifier, self).__init__()\n",
        "\n",
        "#         self.input_layer = nn.Sequential(\n",
        "#             TimeDistributed(nn.Linear(input_dim, hidden_dim)),\n",
        "#             TimeDistributed(nn.BatchNorm1d(hidden_dim)),\n",
        "#             nn.ReLU(),\n",
        "#             nn.Dropout(0.5),\n",
        "#         )\n",
        "\n",
        "#         self.res_blocks = nn.Sequential(*[ResidualBlock(hidden_dim) for _ in range(num_blocks)])\n",
        "\n",
        "#         self.classifier = nn.Sequential(\n",
        "#             nn.Dropout(0.5),\n",
        "#             TimeDistributed(nn.Linear(hidden_dim, 1024)),\n",
        "#             TimeDistributed(nn.BatchNorm1d(1024)),\n",
        "#             nn.ReLU(),\n",
        "#             nn.Dropout(0.5),\n",
        "#             TimeDistributed(nn.Linear(1024, 512)),\n",
        "#             TimeDistributed(nn.BatchNorm1d(512)),\n",
        "#             nn.ReLU(),\n",
        "#             nn.Dropout(0.5),\n",
        "#             TimeDistributed(nn.Linear(512, 256)),\n",
        "#             TimeDistributed(nn.BatchNorm1d(256)),\n",
        "#             nn.ReLU(),\n",
        "#             TimeDistributed(nn.Linear(256, num_classes)),\n",
        "#         )\n",
        "\n",
        "#         self.softmax = nn.Softmax(dim=2)\n",
        "\n",
        "#     def forward(self, x):\n",
        "#         x = self.input_layer(x)\n",
        "#         x = self.res_blocks(x)\n",
        "#         feats = x\n",
        "#         out = self.classifier(x)\n",
        "#         out = self.softmax(out)\n",
        "#         out = out[:, -1, :]\n",
        "#         return {\"feats\": feats, \"out\": out}\n"
      ]
    },
    {
      "cell_type": "code",
      "execution_count": 21,
      "metadata": {
        "id": "Lvgzj8OfKMcB"
      },
      "outputs": [],
      "source": [
        "# import torch\n",
        "# import torch.nn as nn\n",
        "\n",
        "# class ResidualBlock(nn.Module):\n",
        "#     def __init__(self, dim):\n",
        "#         super(ResidualBlock, self).__init__()\n",
        "#         self.block = nn.Sequential(\n",
        "#             nn.Linear(dim, dim),\n",
        "#             nn.BatchNorm1d(dim),\n",
        "#             nn.ReLU(),\n",
        "#             nn.Dropout(0.5),\n",
        "#             nn.Linear(dim, dim),\n",
        "#             nn.BatchNorm1d(dim),\n",
        "#         )\n",
        "#         self.relu = nn.ReLU(inplace=True)\n",
        "\n",
        "#     def forward(self, x):\n",
        "#         identity = x\n",
        "#         out = self.block(x)\n",
        "#         out += identity\n",
        "#         return self.relu(out)\n",
        "\n",
        "\n",
        "# class ResidualMLPClassifier(nn.Module):\n",
        "#     def __init__(self, input_dim, num_classes, hidden_dim=2048, num_blocks=6):\n",
        "#         super(ResidualMLPClassifier, self).__init__()\n",
        "#         self.input_layer = nn.Sequential(\n",
        "#             nn.Linear(input_dim, hidden_dim),\n",
        "#             nn.BatchNorm1d(hidden_dim),\n",
        "#             nn.ReLU(),\n",
        "#             nn.Dropout(0.5),\n",
        "#         )\n",
        "\n",
        "#         self.res_blocks = nn.Sequential(*[ResidualBlock(hidden_dim) for _ in range(num_blocks)])\n",
        "\n",
        "#         self.classifier = nn.Sequential(\n",
        "#             nn.Dropout(0.5),\n",
        "#             nn.Linear(hidden_dim, 512),\n",
        "#             nn.BatchNorm1d(512),\n",
        "#             nn.ReLU(),\n",
        "#             nn.Linear(512, num_classes),\n",
        "#             nn.Softmax(dim=1)\n",
        "#         )\n",
        "\n",
        "#     def forward(self, x):\n",
        "#         x = self.input_layer(x)\n",
        "#         x = self.res_blocks(x)\n",
        "#         feats = x\n",
        "#         out = self.classifier(x)\n",
        "#         return {\"feats\": feats, \"out\": out}\n",
        "\n",
        "# model = ResidualMLPClassifier(input_dim=9, num_classes=7, hidden_dim = config['hidden_dim'], num_blocks = config['num_blocks']).to(config['device'])\n",
        "\n",
        "# summary(model, input_size=(64, 9))  # for batch size 64"
      ]
    },
    {
      "cell_type": "code",
      "execution_count": 22,
      "metadata": {},
      "outputs": [
        {
          "data": {
            "text/plain": [
              "==========================================================================================\n",
              "Layer (type:depth-idx)                   Output Shape              Param #\n",
              "==========================================================================================\n",
              "RNNClassifier                            [64, 7]                   --\n",
              "├─LSTM: 1-1                              [64, 30, 256]             1,326,080\n",
              "├─Sequential: 1-2                        [64, 7]                   --\n",
              "│    └─Linear: 2-1                       [64, 256]                 65,792\n",
              "│    └─ReLU: 2-2                         [64, 256]                 --\n",
              "│    └─Dropout: 2-3                      [64, 256]                 --\n",
              "│    └─Linear: 2-4                       [64, 128]                 32,896\n",
              "│    └─ReLU: 2-5                         [64, 128]                 --\n",
              "│    └─Dropout: 2-6                      [64, 128]                 --\n",
              "│    └─Linear: 2-7                       [64, 7]                   903\n",
              "├─Softmax: 1-3                           [64, 7]                   --\n",
              "==========================================================================================\n",
              "Total params: 1,425,671\n",
              "Trainable params: 1,425,671\n",
              "Non-trainable params: 0\n",
              "Total mult-adds (G): 2.55\n",
              "==========================================================================================\n",
              "Input size (MB): 0.07\n",
              "Forward/backward pass size (MB): 4.13\n",
              "Params size (MB): 5.70\n",
              "Estimated Total Size (MB): 9.90\n",
              "=========================================================================================="
            ]
          },
          "execution_count": 22,
          "metadata": {},
          "output_type": "execute_result"
        }
      ],
      "source": [
        "import torch\n",
        "import torch.nn as nn\n",
        "\n",
        "class RNNClassifier(nn.Module):\n",
        "    def __init__(self, input_dim, num_classes, hidden_dim=128, num_layers=2, dropout=0.5, rnn_type=\"lstm\"):\n",
        "        super(RNNClassifier, self).__init__()\n",
        "\n",
        "        self.rnn_type = rnn_type.lower()\n",
        "        rnn_cls = {\n",
        "            \"lstm\": nn.LSTM,\n",
        "            \"gru\": nn.GRU,\n",
        "            \"rnn\": nn.RNN\n",
        "        }[self.rnn_type]\n",
        "\n",
        "        self.rnn = rnn_cls(\n",
        "            input_size=input_dim,\n",
        "            hidden_size=hidden_dim,\n",
        "            num_layers=num_layers,\n",
        "            batch_first=True,\n",
        "            dropout=dropout if num_layers > 1 else 0,\n",
        "            bidirectional=False\n",
        "        )\n",
        "\n",
        "        self.classifier = nn.Sequential(\n",
        "            nn.Linear(hidden_dim, 256),\n",
        "            nn.ReLU(),\n",
        "            nn.Dropout(dropout),\n",
        "            nn.Linear(256, 128),\n",
        "            nn.ReLU(),\n",
        "            nn.Dropout(dropout),\n",
        "            nn.Linear(128, num_classes)\n",
        "        )\n",
        "\n",
        "        self.softmax = nn.Softmax(dim=1)\n",
        "\n",
        "    def forward(self, x):\n",
        "        # x: (B, T, F)\n",
        "        out, _ = self.rnn(x)  # out: (B, T, H)\n",
        "        last_out = out[:, -1, :]  # last timestep (B, H)\n",
        "        logits = self.classifier(last_out)\n",
        "        probs = self.softmax(logits)\n",
        "        return {\"feats\": last_out, \"out\": probs}\n",
        "\n",
        "model = RNNClassifier(\n",
        "    input_dim=9,\n",
        "    num_classes=7,\n",
        "    hidden_dim=config['hidden_dim'],\n",
        "    num_layers=config['num_blocks'],  # or another config param\n",
        "    dropout=0.5,\n",
        "    rnn_type=\"lstm\"\n",
        ").to(config['device'])\n",
        "\n",
        "config['device'] = 'cpu'\n",
        "device = torch.device(config['device'])\n",
        "model = model.to(config['device'])\n",
        "\n",
        "# For summary:\n",
        "from torchinfo import summary\n",
        "summary(model, input_data=torch.zeros(64, 30, 9).to(config['device']))"
      ]
    },
    {
      "cell_type": "code",
      "execution_count": 23,
      "metadata": {
        "id": "2VElzMZvKMcB"
      },
      "outputs": [],
      "source": [
        "class AverageMeter:\n",
        "    def __init__(self):\n",
        "        self.reset()\n",
        "\n",
        "    def reset(self):\n",
        "        self.val = 0\n",
        "        self.avg = 0\n",
        "        self.sum = 0\n",
        "        self.count = 0\n",
        "\n",
        "    def update(self, val, n=1):\n",
        "        self.val = val\n",
        "        self.sum += val * n\n",
        "        self.count += n\n",
        "        self.avg = self.sum / self.count"
      ]
    },
    {
      "cell_type": "code",
      "execution_count": 24,
      "metadata": {
        "id": "EiPYAO1zKMcB"
      },
      "outputs": [],
      "source": [
        "def accuracy(output, target, topk=(1,)):\n",
        "    with torch.no_grad():\n",
        "        maxk = max(topk)\n",
        "        batch_size = target.size(0)\n",
        "\n",
        "        _, pred = output.topk(maxk, 1, True, True)\n",
        "        pred = pred.t()\n",
        "        correct = pred.eq(target.view(1, -1).expand_as(pred))\n",
        "\n",
        "        res = []\n",
        "        for k in topk:\n",
        "            correct_k = correct[:k].reshape(-1).float().sum(0, keepdim=True)\n",
        "            res.append(correct_k.mul_(100.0 / batch_size))\n",
        "        return res"
      ]
    },
    {
      "cell_type": "code",
      "execution_count": 25,
      "metadata": {
        "id": "DLwyZLQLKMcB"
      },
      "outputs": [],
      "source": [
        "def train_model(model, train_loader, criterion, optimizer, device):\n",
        "    model.train()\n",
        "    loss_m = AverageMeter()\n",
        "    acc_m = AverageMeter()\n",
        "    batch_bar = tqdm(total=len(train_loader), dynamic_ncols=True, leave=False, position=0, desc='Train')\n",
        "\n",
        "    for i, data in enumerate(train_loader):\n",
        "        optimizer.zero_grad()\n",
        "        x, y = data\n",
        "        x, y = x.to(device), y.to(device)\n",
        "        outputs = model(x)\n",
        "        loss = criterion(outputs['out'], y)\n",
        "        loss.backward()\n",
        "        torch.nn.utils.clip_grad_norm_(model.parameters(), 1.0)\n",
        "        optimizer.step()\n",
        "\n",
        "        acc = accuracy(outputs['out'], y)[0].item()\n",
        "        loss_m.update(loss.item())\n",
        "        acc_m.update(acc)\n",
        "\n",
        "        batch_bar.set_postfix(\n",
        "            loss=\"{:.04f}\".format(float(loss_m.avg)),\n",
        "            acc=\"{:.04f}%\".format(float(acc_m.avg)),\n",
        "            lr=\"{:.06f}\".format(float(optimizer.param_groups[0]['lr']))\n",
        "        )\n",
        "        batch_bar.update()\n",
        "\n",
        "        del x, y, outputs, loss\n",
        "        torch.mps.empty_cache()\n",
        "\n",
        "    batch_bar.close()\n",
        "    return loss_m.avg, acc_m.avg"
      ]
    },
    {
      "cell_type": "code",
      "execution_count": 26,
      "metadata": {
        "id": "VZO5iNDzKMcC"
      },
      "outputs": [],
      "source": [
        "@torch.no_grad()\n",
        "def validate_model(model, val_loader, criterion, class_names, device):\n",
        "    model.eval()\n",
        "    loss_m = AverageMeter()\n",
        "    acc_m = AverageMeter()\n",
        "    batch_bar = tqdm(total=len(val_loader), dynamic_ncols=True, position=0, leave=False, desc='Val')\n",
        "\n",
        "    all_preds = []\n",
        "    all_targets = []\n",
        "\n",
        "    for i, data in enumerate(val_loader):\n",
        "        x, y = data\n",
        "        x, y = x.to(device), y.to(device)\n",
        "        outputs = model(x)\n",
        "        loss = criterion(outputs['out'], y)\n",
        "\n",
        "        acc = accuracy(outputs['out'], y)[0].item()\n",
        "\n",
        "        _, predicted = torch.max(outputs['out'], 1)\n",
        "        all_preds.extend(predicted.cpu().numpy())\n",
        "        all_targets.extend(y.cpu().numpy())\n",
        "\n",
        "        loss_m.update(loss.item())\n",
        "        acc_m.update(acc)\n",
        "\n",
        "        batch_bar.set_postfix(\n",
        "            loss=\"{:.04f}\".format(float(loss_m.avg)),\n",
        "            acc=\"{:.04f}%\".format(float(acc_m.avg))\n",
        "        )\n",
        "        batch_bar.update()\n",
        "\n",
        "        del x, y, outputs, loss\n",
        "        torch.mps.empty_cache()\n",
        "\n",
        "    batch_bar.close()\n",
        "\n",
        "    if class_names:\n",
        "        print(\"\\nPer-class Validation Accuracy:\")\n",
        "        per_class_acc = {}\n",
        "        for i, class_name in enumerate(class_names):\n",
        "            class_mask = (np.array(all_targets) == i)\n",
        "            if np.sum(class_mask) > 0:\n",
        "                class_correct = np.sum((np.array(all_preds)[class_mask] == i))\n",
        "                class_total = np.sum(class_mask)\n",
        "                acc_percent = 100 * class_correct / class_total\n",
        "                print(f\"  {class_name}: {acc_percent:.4f}% ({class_correct}/{class_total})\")\n",
        "                per_class_acc[f\"val_acc_{class_name}\"] = acc_percent\n",
        "\n",
        "    return loss_m.avg, acc_m.avg"
      ]
    },
    {
      "cell_type": "code",
      "execution_count": 27,
      "metadata": {
        "id": "g0vNzj8FKMcC"
      },
      "outputs": [],
      "source": [
        "def save_model(model, optimizer, scheduler, metrics, epoch, path):\n",
        "    torch.save({\n",
        "        'epoch': epoch,\n",
        "        'model_state_dict': model.state_dict(),\n",
        "        'optimizer_state_dict': optimizer.state_dict(),\n",
        "        'scheduler_state_dict': scheduler.state_dict() if scheduler else None,\n",
        "        'metrics': metrics\n",
        "    }, path)"
      ]
    },
    {
      "cell_type": "code",
      "execution_count": 28,
      "metadata": {
        "id": "3naM25ADKMcC"
      },
      "outputs": [
        {
          "name": "stderr",
          "output_type": "stream",
          "text": [
            "/opt/miniconda3/lib/python3.9/site-packages/torch/optim/lr_scheduler.py:62: UserWarning: The verbose parameter is deprecated. Please use get_last_lr() to access the learning rate.\n",
            "  warnings.warn(\n"
          ]
        }
      ],
      "source": [
        "# Define CrossEntropyLoss as the criterion\n",
        "criterion = nn.CrossEntropyLoss(\n",
        "    label_smoothing=0.1\n",
        ")\n",
        "\n",
        "# Initialize optimizer with AdamW\n",
        "optimizer = torch.optim.AdamW(\n",
        "    model.parameters(),\n",
        "    lr=config['lr'],\n",
        "    weight_decay=1e-5\n",
        ")\n",
        "\n",
        "# Learning rate scheduler\n",
        "scheduler = torch.optim.lr_scheduler.ReduceLROnPlateau(\n",
        "    optimizer,\n",
        "    mode='min',\n",
        "    factor=0.5,\n",
        "    patience=3,\n",
        "    min_lr=1e-6,\n",
        "    verbose=True\n",
        ")"
      ]
    },
    {
      "cell_type": "code",
      "execution_count": 29,
      "metadata": {
        "colab": {
          "base_uri": "https://localhost:8080/"
        },
        "id": "tWEXTMbuKMcC",
        "outputId": "bc10742e-84cb-4825-d0ba-487bd5c6f6dc"
      },
      "outputs": [
        {
          "name": "stderr",
          "output_type": "stream",
          "text": [
            "\u001b[34m\u001b[1mwandb\u001b[0m: Using wandb-core as the SDK backend.  Please refer to https://wandb.me/wandb-core for more information.\n",
            "\u001b[34m\u001b[1mwandb\u001b[0m: \u001b[33mWARNING\u001b[0m If you're specifying your api key in code, ensure this code is not shared publicly.\n",
            "\u001b[34m\u001b[1mwandb\u001b[0m: \u001b[33mWARNING\u001b[0m Consider setting the WANDB_API_KEY environment variable, or running `wandb login` from the command line.\n",
            "\u001b[34m\u001b[1mwandb\u001b[0m: Appending key for api.wandb.ai to your netrc file: /Users/benlee/.netrc\n",
            "\u001b[34m\u001b[1mwandb\u001b[0m: Currently logged in as: \u001b[33mdonggul\u001b[0m (\u001b[33mdonggul-carnegie-mellon-university\u001b[0m) to \u001b[32mhttps://api.wandb.ai\u001b[0m. Use \u001b[1m`wandb login --relogin`\u001b[0m to force relogin\n"
          ]
        },
        {
          "data": {
            "text/plain": [
              "True"
            ]
          },
          "execution_count": 29,
          "metadata": {},
          "output_type": "execute_result"
        }
      ],
      "source": [
        "import wandb\n",
        "# Intialize wandb\n",
        "wandb.login(key=\"78d5988d9f05a421bc74d044c3cd9afc3b918020\") # API Key is in your wandb account, under settings (wandb.ai/settings)"
      ]
    },
    {
      "cell_type": "code",
      "execution_count": 30,
      "metadata": {
        "id": "gon3xS9EKMcC"
      },
      "outputs": [
        {
          "data": {
            "text/html": [
              "Tracking run with wandb version 0.19.7"
            ],
            "text/plain": [
              "<IPython.core.display.HTML object>"
            ]
          },
          "metadata": {},
          "output_type": "display_data"
        },
        {
          "data": {
            "text/html": [
              "Run data is saved locally in <code>/Users/benlee/Documents/college/CMU/Spring 2025/IDL/Project/IDL_code/wandb/run-20250403_173010-3vcshcqc</code>"
            ],
            "text/plain": [
              "<IPython.core.display.HTML object>"
            ]
          },
          "metadata": {},
          "output_type": "display_data"
        },
        {
          "data": {
            "text/html": [
              "Syncing run <strong><a href='https://wandb.ai/donggul-carnegie-mellon-university/object_classification/runs/3vcshcqc' target=\"_blank\">22run</a></strong> to <a href='https://wandb.ai/donggul-carnegie-mellon-university/object_classification' target=\"_blank\">Weights & Biases</a> (<a href='https://wandb.me/developer-guide' target=\"_blank\">docs</a>)<br>"
            ],
            "text/plain": [
              "<IPython.core.display.HTML object>"
            ]
          },
          "metadata": {},
          "output_type": "display_data"
        },
        {
          "data": {
            "text/html": [
              " View project at <a href='https://wandb.ai/donggul-carnegie-mellon-university/object_classification' target=\"_blank\">https://wandb.ai/donggul-carnegie-mellon-university/object_classification</a>"
            ],
            "text/plain": [
              "<IPython.core.display.HTML object>"
            ]
          },
          "metadata": {},
          "output_type": "display_data"
        },
        {
          "data": {
            "text/html": [
              " View run at <a href='https://wandb.ai/donggul-carnegie-mellon-university/object_classification/runs/3vcshcqc' target=\"_blank\">https://wandb.ai/donggul-carnegie-mellon-university/object_classification/runs/3vcshcqc</a>"
            ],
            "text/plain": [
              "<IPython.core.display.HTML object>"
            ]
          },
          "metadata": {},
          "output_type": "display_data"
        }
      ],
      "source": [
        "run = wandb.init(\n",
        "    name = \"22run\", ## Wandb creates random run names if you skip this field\n",
        "    reinit = False, ### Allows reinitalizing runs when you re-run this cell\n",
        "    #id = \"\", ### Insert specific run id here if you want to resume a previous run\n",
        "    # resume = \"must\" ### You need this to resume previous runs, but comment out reinit = True when using this\n",
        "    project = \"object_classification\", ### Project should be created in your wandb account\n",
        "    config = config ### Wandb Config for your run\n",
        ")"
      ]
    },
    {
      "cell_type": "code",
      "execution_count": 31,
      "metadata": {},
      "outputs": [],
      "source": [
        "torch.mps.empty_cache()"
      ]
    },
    {
      "cell_type": "code",
      "execution_count": 32,
      "metadata": {
        "colab": {
          "base_uri": "https://localhost:8080/"
        },
        "id": "C8hA-tExKMcC",
        "outputId": "140f88fd-44e4-49af-9258-0039416de0e9"
      },
      "outputs": [
        {
          "name": "stdout",
          "output_type": "stream",
          "text": [
            "\n",
            "Epoch 1/10\n"
          ]
        },
        {
          "name": "stderr",
          "output_type": "stream",
          "text": [
            "                                                                                                  \r"
          ]
        },
        {
          "name": "stdout",
          "output_type": "stream",
          "text": [
            "Train Loss: 1.8749, Train Accuracy: 27.96%\n"
          ]
        },
        {
          "name": "stderr",
          "output_type": "stream",
          "text": [
            "                                                                                 \r"
          ]
        },
        {
          "name": "stdout",
          "output_type": "stream",
          "text": [
            "\n",
            "Per-class Validation Accuracy:\n",
            "  Blueball: 15.5025% (526/3393)\n",
            "  Box: 21.2920% (824/3870)\n",
            "  Pencilcase: 36.4350% (1625/4460)\n",
            "  Pinkball: 8.6901% (615/7077)\n",
            "  StuffedAnimal: 0.8028% (28/3488)\n",
            "  Tennis: 8.2126% (306/3726)\n"
          ]
        },
        {
          "name": "stderr",
          "output_type": "stream",
          "text": [
            "\u001b[34m\u001b[1mwandb\u001b[0m: \u001b[33mWARNING\u001b[0m Saving files without folders. If you want to preserve subdirectories pass base_path to wandb.save, i.e. wandb.save(\"/mnt/folder/file.h5\", base_path=\"/mnt\")\n"
          ]
        },
        {
          "name": "stdout",
          "output_type": "stream",
          "text": [
            "  Waterbottle: 9.1735% (404/4404)\n",
            "Validation Loss: 1.9743, Validation Accuracy: 14.22%\n",
            "Saved best model with validation loss: 1.9743 and accuracy: 14.22%\n",
            "Saved model for epoch 1\n",
            "End of Epoch 1/10\n",
            "\n",
            "Epoch 2/10\n"
          ]
        },
        {
          "name": "stderr",
          "output_type": "stream",
          "text": [
            "Train:  39%|███▉      | 2093/5303 [4:30:15<15:51,  3.37it/s, acc=33.1985%, loss=1.8361, lr=0.000100]     "
          ]
        },
        {
          "ename": "KeyboardInterrupt",
          "evalue": "",
          "output_type": "error",
          "traceback": [
            "\u001b[0;31m---------------------------------------------------------------------------\u001b[0m",
            "\u001b[0;31mKeyboardInterrupt\u001b[0m                         Traceback (most recent call last)",
            "Cell \u001b[0;32mIn[32], line 13\u001b[0m\n\u001b[1;32m      9\u001b[0m \u001b[38;5;28mprint\u001b[39m(\u001b[38;5;124mf\u001b[39m\u001b[38;5;124m\"\u001b[39m\u001b[38;5;130;01m\\n\u001b[39;00m\u001b[38;5;124mEpoch \u001b[39m\u001b[38;5;132;01m{\u001b[39;00mepoch\u001b[38;5;250m \u001b[39m\u001b[38;5;241m+\u001b[39m\u001b[38;5;250m \u001b[39m\u001b[38;5;241m1\u001b[39m\u001b[38;5;132;01m}\u001b[39;00m\u001b[38;5;124m/\u001b[39m\u001b[38;5;132;01m{\u001b[39;00mconfig[\u001b[38;5;124m'\u001b[39m\u001b[38;5;124mepochs\u001b[39m\u001b[38;5;124m'\u001b[39m]\u001b[38;5;132;01m}\u001b[39;00m\u001b[38;5;124m\"\u001b[39m)\n\u001b[1;32m     11\u001b[0m torch\u001b[38;5;241m.\u001b[39mmps\u001b[38;5;241m.\u001b[39mempty_cache()\n\u001b[0;32m---> 13\u001b[0m train_loss, train_acc \u001b[38;5;241m=\u001b[39m \u001b[43mtrain_model\u001b[49m\u001b[43m(\u001b[49m\u001b[43mmodel\u001b[49m\u001b[43m,\u001b[49m\u001b[43m \u001b[49m\u001b[43mtrain_loader\u001b[49m\u001b[43m,\u001b[49m\u001b[43m \u001b[49m\u001b[43mcriterion\u001b[49m\u001b[43m,\u001b[49m\u001b[43m \u001b[49m\u001b[43moptimizer\u001b[49m\u001b[43m,\u001b[49m\u001b[43m \u001b[49m\u001b[43mconfig\u001b[49m\u001b[43m[\u001b[49m\u001b[38;5;124;43m'\u001b[39;49m\u001b[38;5;124;43mdevice\u001b[39;49m\u001b[38;5;124;43m'\u001b[39;49m\u001b[43m]\u001b[49m\u001b[43m)\u001b[49m\n\u001b[1;32m     14\u001b[0m \u001b[38;5;28mprint\u001b[39m(\u001b[38;5;124mf\u001b[39m\u001b[38;5;124m\"\u001b[39m\u001b[38;5;124mTrain Loss: \u001b[39m\u001b[38;5;132;01m{\u001b[39;00mtrain_loss\u001b[38;5;132;01m:\u001b[39;00m\u001b[38;5;124m.4f\u001b[39m\u001b[38;5;132;01m}\u001b[39;00m\u001b[38;5;124m, Train Accuracy: \u001b[39m\u001b[38;5;132;01m{\u001b[39;00mtrain_acc\u001b[38;5;132;01m:\u001b[39;00m\u001b[38;5;124m.2f\u001b[39m\u001b[38;5;132;01m}\u001b[39;00m\u001b[38;5;124m%\u001b[39m\u001b[38;5;124m\"\u001b[39m)\n\u001b[1;32m     16\u001b[0m val_loss, val_acc \u001b[38;5;241m=\u001b[39m validate_model(model, val_loader, criterion, class_names, config[\u001b[38;5;124m'\u001b[39m\u001b[38;5;124mdevice\u001b[39m\u001b[38;5;124m'\u001b[39m])\n",
            "Cell \u001b[0;32mIn[25], line 13\u001b[0m, in \u001b[0;36mtrain_model\u001b[0;34m(model, train_loader, criterion, optimizer, device)\u001b[0m\n\u001b[1;32m     11\u001b[0m outputs \u001b[38;5;241m=\u001b[39m model(x)\n\u001b[1;32m     12\u001b[0m loss \u001b[38;5;241m=\u001b[39m criterion(outputs[\u001b[38;5;124m'\u001b[39m\u001b[38;5;124mout\u001b[39m\u001b[38;5;124m'\u001b[39m], y)\n\u001b[0;32m---> 13\u001b[0m \u001b[43mloss\u001b[49m\u001b[38;5;241;43m.\u001b[39;49m\u001b[43mbackward\u001b[49m\u001b[43m(\u001b[49m\u001b[43m)\u001b[49m\n\u001b[1;32m     14\u001b[0m torch\u001b[38;5;241m.\u001b[39mnn\u001b[38;5;241m.\u001b[39mutils\u001b[38;5;241m.\u001b[39mclip_grad_norm_(model\u001b[38;5;241m.\u001b[39mparameters(), \u001b[38;5;241m1.0\u001b[39m)\n\u001b[1;32m     15\u001b[0m optimizer\u001b[38;5;241m.\u001b[39mstep()\n",
            "File \u001b[0;32m/opt/miniconda3/lib/python3.9/site-packages/torch/_tensor.py:581\u001b[0m, in \u001b[0;36mTensor.backward\u001b[0;34m(self, gradient, retain_graph, create_graph, inputs)\u001b[0m\n\u001b[1;32m    571\u001b[0m \u001b[38;5;28;01mif\u001b[39;00m has_torch_function_unary(\u001b[38;5;28mself\u001b[39m):\n\u001b[1;32m    572\u001b[0m     \u001b[38;5;28;01mreturn\u001b[39;00m handle_torch_function(\n\u001b[1;32m    573\u001b[0m         Tensor\u001b[38;5;241m.\u001b[39mbackward,\n\u001b[1;32m    574\u001b[0m         (\u001b[38;5;28mself\u001b[39m,),\n\u001b[0;32m   (...)\u001b[0m\n\u001b[1;32m    579\u001b[0m         inputs\u001b[38;5;241m=\u001b[39minputs,\n\u001b[1;32m    580\u001b[0m     )\n\u001b[0;32m--> 581\u001b[0m \u001b[43mtorch\u001b[49m\u001b[38;5;241;43m.\u001b[39;49m\u001b[43mautograd\u001b[49m\u001b[38;5;241;43m.\u001b[39;49m\u001b[43mbackward\u001b[49m\u001b[43m(\u001b[49m\n\u001b[1;32m    582\u001b[0m \u001b[43m    \u001b[49m\u001b[38;5;28;43mself\u001b[39;49m\u001b[43m,\u001b[49m\u001b[43m \u001b[49m\u001b[43mgradient\u001b[49m\u001b[43m,\u001b[49m\u001b[43m \u001b[49m\u001b[43mretain_graph\u001b[49m\u001b[43m,\u001b[49m\u001b[43m \u001b[49m\u001b[43mcreate_graph\u001b[49m\u001b[43m,\u001b[49m\u001b[43m \u001b[49m\u001b[43minputs\u001b[49m\u001b[38;5;241;43m=\u001b[39;49m\u001b[43minputs\u001b[49m\n\u001b[1;32m    583\u001b[0m \u001b[43m\u001b[49m\u001b[43m)\u001b[49m\n",
            "File \u001b[0;32m/opt/miniconda3/lib/python3.9/site-packages/torch/autograd/__init__.py:347\u001b[0m, in \u001b[0;36mbackward\u001b[0;34m(tensors, grad_tensors, retain_graph, create_graph, grad_variables, inputs)\u001b[0m\n\u001b[1;32m    342\u001b[0m     retain_graph \u001b[38;5;241m=\u001b[39m create_graph\n\u001b[1;32m    344\u001b[0m \u001b[38;5;66;03m# The reason we repeat the same comment below is that\u001b[39;00m\n\u001b[1;32m    345\u001b[0m \u001b[38;5;66;03m# some Python versions print out the first line of a multi-line function\u001b[39;00m\n\u001b[1;32m    346\u001b[0m \u001b[38;5;66;03m# calls in the traceback and some print out the last line\u001b[39;00m\n\u001b[0;32m--> 347\u001b[0m \u001b[43m_engine_run_backward\u001b[49m\u001b[43m(\u001b[49m\n\u001b[1;32m    348\u001b[0m \u001b[43m    \u001b[49m\u001b[43mtensors\u001b[49m\u001b[43m,\u001b[49m\n\u001b[1;32m    349\u001b[0m \u001b[43m    \u001b[49m\u001b[43mgrad_tensors_\u001b[49m\u001b[43m,\u001b[49m\n\u001b[1;32m    350\u001b[0m \u001b[43m    \u001b[49m\u001b[43mretain_graph\u001b[49m\u001b[43m,\u001b[49m\n\u001b[1;32m    351\u001b[0m \u001b[43m    \u001b[49m\u001b[43mcreate_graph\u001b[49m\u001b[43m,\u001b[49m\n\u001b[1;32m    352\u001b[0m \u001b[43m    \u001b[49m\u001b[43minputs\u001b[49m\u001b[43m,\u001b[49m\n\u001b[1;32m    353\u001b[0m \u001b[43m    \u001b[49m\u001b[43mallow_unreachable\u001b[49m\u001b[38;5;241;43m=\u001b[39;49m\u001b[38;5;28;43;01mTrue\u001b[39;49;00m\u001b[43m,\u001b[49m\n\u001b[1;32m    354\u001b[0m \u001b[43m    \u001b[49m\u001b[43maccumulate_grad\u001b[49m\u001b[38;5;241;43m=\u001b[39;49m\u001b[38;5;28;43;01mTrue\u001b[39;49;00m\u001b[43m,\u001b[49m\n\u001b[1;32m    355\u001b[0m \u001b[43m\u001b[49m\u001b[43m)\u001b[49m\n",
            "File \u001b[0;32m/opt/miniconda3/lib/python3.9/site-packages/torch/autograd/graph.py:825\u001b[0m, in \u001b[0;36m_engine_run_backward\u001b[0;34m(t_outputs, *args, **kwargs)\u001b[0m\n\u001b[1;32m    823\u001b[0m     unregister_hooks \u001b[38;5;241m=\u001b[39m _register_logging_hooks_on_whole_graph(t_outputs)\n\u001b[1;32m    824\u001b[0m \u001b[38;5;28;01mtry\u001b[39;00m:\n\u001b[0;32m--> 825\u001b[0m     \u001b[38;5;28;01mreturn\u001b[39;00m \u001b[43mVariable\u001b[49m\u001b[38;5;241;43m.\u001b[39;49m\u001b[43m_execution_engine\u001b[49m\u001b[38;5;241;43m.\u001b[39;49m\u001b[43mrun_backward\u001b[49m\u001b[43m(\u001b[49m\u001b[43m  \u001b[49m\u001b[38;5;66;43;03m# Calls into the C++ engine to run the backward pass\u001b[39;49;00m\n\u001b[1;32m    826\u001b[0m \u001b[43m        \u001b[49m\u001b[43mt_outputs\u001b[49m\u001b[43m,\u001b[49m\u001b[43m \u001b[49m\u001b[38;5;241;43m*\u001b[39;49m\u001b[43margs\u001b[49m\u001b[43m,\u001b[49m\u001b[43m \u001b[49m\u001b[38;5;241;43m*\u001b[39;49m\u001b[38;5;241;43m*\u001b[39;49m\u001b[43mkwargs\u001b[49m\n\u001b[1;32m    827\u001b[0m \u001b[43m    \u001b[49m\u001b[43m)\u001b[49m  \u001b[38;5;66;03m# Calls into the C++ engine to run the backward pass\u001b[39;00m\n\u001b[1;32m    828\u001b[0m \u001b[38;5;28;01mfinally\u001b[39;00m:\n\u001b[1;32m    829\u001b[0m     \u001b[38;5;28;01mif\u001b[39;00m attach_logging_hooks:\n",
            "\u001b[0;31mKeyboardInterrupt\u001b[0m: "
          ]
        }
      ],
      "source": [
        "# Training Loop\n",
        "best_val_loss = float('inf')\n",
        "best_val_acc = 0\n",
        "class_names = list(CATEGORIES.keys())\n",
        "model = model.to(device)\n",
        "\n",
        "for epoch in range(config['epochs']):\n",
        "    # during training or inference\n",
        "    print(f\"\\nEpoch {epoch + 1}/{config['epochs']}\")\n",
        "\n",
        "    torch.mps.empty_cache()\n",
        "\n",
        "    train_loss, train_acc = train_model(model, train_loader, criterion, optimizer, config['device'])\n",
        "    print(f\"Train Loss: {train_loss:.4f}, Train Accuracy: {train_acc:.2f}%\")\n",
        "\n",
        "    val_loss, val_acc = validate_model(model, val_loader, criterion, class_names, config['device'])\n",
        "    print(f\"Validation Loss: {val_loss:.4f}, Validation Accuracy: {val_acc:.2f}%\")\n",
        "\n",
        "    scheduler.step(val_loss)\n",
        "    curr_lr = optimizer.param_groups[0]['lr']\n",
        "\n",
        "    if val_loss < best_val_loss:\n",
        "        best_val_loss = val_loss\n",
        "        best_val_acc = val_acc\n",
        "        best_model_path = os.path.join(config['checkpoint_dir'], 'best_model.pth')\n",
        "        torch.save({\n",
        "            'epoch': epoch,\n",
        "            'model_state_dict': model.state_dict(),\n",
        "            'optimizer_state_dict': optimizer.state_dict(),\n",
        "            'val_loss': val_loss,\n",
        "            'val_acc': val_acc,\n",
        "        }, best_model_path)\n",
        "        wandb.save(best_model_path)\n",
        "        print(f\"Saved best model with validation loss: {best_val_loss:.4f} and accuracy: {best_val_acc:.2f}%\")\n",
        "\n",
        "    last_model_path = os.path.join(config['checkpoint_dir'], f'model_epoch_{epoch+1}.pth')\n",
        "    torch.save(model.state_dict(), last_model_path)\n",
        "    wandb.save(last_model_path)\n",
        "    print(f\"Saved model for epoch {epoch+1}\")\n",
        "\n",
        "    wandb.log({\n",
        "        'epoch': epoch + 1,\n",
        "        'train_loss': train_loss,\n",
        "        'train_acc': train_acc,\n",
        "        'val_loss': val_loss,\n",
        "        'val_acc': val_acc,\n",
        "        'learning_rate': curr_lr\n",
        "    }, step=epoch)\n",
        "\n",
        "    print(f\"End of Epoch {epoch+1}/{config['epochs']}\")\n",
        "\n",
        "print(f\"\\nTraining complete! Best validation accuracy: {best_val_acc:.2f}%\")"
      ]
    },
    {
      "cell_type": "code",
      "execution_count": 31,
      "metadata": {
        "id": "prB3uz0aKMcC"
      },
      "outputs": [
        {
          "name": "stdout",
          "output_type": "stream",
          "text": [
            "Error in callback <bound method _WandbInit._resume_backend of <wandb.sdk.wandb_init._WandbInit object at 0x395f91dc0>> (for pre_run_cell):\n"
          ]
        },
        {
          "ename": "BrokenPipeError",
          "evalue": "[Errno 32] Broken pipe",
          "output_type": "error",
          "traceback": [
            "\u001b[0;31m---------------------------------------------------------------------------\u001b[0m",
            "\u001b[0;31mBrokenPipeError\u001b[0m                           Traceback (most recent call last)",
            "File \u001b[0;32m/opt/miniconda3/lib/python3.9/site-packages/wandb/sdk/wandb_init.py:570\u001b[0m, in \u001b[0;36m_WandbInit._resume_backend\u001b[0;34m(self, *args, **kwargs)\u001b[0m\n\u001b[1;32m    568\u001b[0m \u001b[38;5;28;01mif\u001b[39;00m \u001b[38;5;28mself\u001b[39m\u001b[38;5;241m.\u001b[39mbackend \u001b[38;5;129;01mis\u001b[39;00m \u001b[38;5;129;01mnot\u001b[39;00m \u001b[38;5;28;01mNone\u001b[39;00m \u001b[38;5;129;01mand\u001b[39;00m \u001b[38;5;28mself\u001b[39m\u001b[38;5;241m.\u001b[39mbackend\u001b[38;5;241m.\u001b[39minterface \u001b[38;5;129;01mis\u001b[39;00m \u001b[38;5;129;01mnot\u001b[39;00m \u001b[38;5;28;01mNone\u001b[39;00m:\n\u001b[1;32m    569\u001b[0m     \u001b[38;5;28mself\u001b[39m\u001b[38;5;241m.\u001b[39m_logger\u001b[38;5;241m.\u001b[39minfo(\u001b[38;5;124m\"\u001b[39m\u001b[38;5;124mresuming backend\u001b[39m\u001b[38;5;124m\"\u001b[39m)  \u001b[38;5;66;03m# type: ignore\u001b[39;00m\n\u001b[0;32m--> 570\u001b[0m     \u001b[38;5;28;43mself\u001b[39;49m\u001b[38;5;241;43m.\u001b[39;49m\u001b[43mbackend\u001b[49m\u001b[38;5;241;43m.\u001b[39;49m\u001b[43minterface\u001b[49m\u001b[38;5;241;43m.\u001b[39;49m\u001b[43mpublish_resume\u001b[49m\u001b[43m(\u001b[49m\u001b[43m)\u001b[49m\n",
            "File \u001b[0;32m/opt/miniconda3/lib/python3.9/site-packages/wandb/sdk/interface/interface.py:779\u001b[0m, in \u001b[0;36mInterfaceBase.publish_resume\u001b[0;34m(self)\u001b[0m\n\u001b[1;32m    777\u001b[0m \u001b[38;5;28;01mdef\u001b[39;00m \u001b[38;5;21mpublish_resume\u001b[39m(\u001b[38;5;28mself\u001b[39m) \u001b[38;5;241m-\u001b[39m\u001b[38;5;241m>\u001b[39m \u001b[38;5;28;01mNone\u001b[39;00m:\n\u001b[1;32m    778\u001b[0m     resume \u001b[38;5;241m=\u001b[39m pb\u001b[38;5;241m.\u001b[39mResumeRequest()\n\u001b[0;32m--> 779\u001b[0m     \u001b[38;5;28;43mself\u001b[39;49m\u001b[38;5;241;43m.\u001b[39;49m\u001b[43m_publish_resume\u001b[49m\u001b[43m(\u001b[49m\u001b[43mresume\u001b[49m\u001b[43m)\u001b[49m\n",
            "File \u001b[0;32m/opt/miniconda3/lib/python3.9/site-packages/wandb/sdk/interface/interface_shared.py:301\u001b[0m, in \u001b[0;36mInterfaceShared._publish_resume\u001b[0;34m(self, resume)\u001b[0m\n\u001b[1;32m    299\u001b[0m \u001b[38;5;28;01mdef\u001b[39;00m \u001b[38;5;21m_publish_resume\u001b[39m(\u001b[38;5;28mself\u001b[39m, resume: pb\u001b[38;5;241m.\u001b[39mResumeRequest) \u001b[38;5;241m-\u001b[39m\u001b[38;5;241m>\u001b[39m \u001b[38;5;28;01mNone\u001b[39;00m:\n\u001b[1;32m    300\u001b[0m     rec \u001b[38;5;241m=\u001b[39m \u001b[38;5;28mself\u001b[39m\u001b[38;5;241m.\u001b[39m_make_request(resume\u001b[38;5;241m=\u001b[39mresume)\n\u001b[0;32m--> 301\u001b[0m     \u001b[38;5;28;43mself\u001b[39;49m\u001b[38;5;241;43m.\u001b[39;49m\u001b[43m_publish\u001b[49m\u001b[43m(\u001b[49m\u001b[43mrec\u001b[49m\u001b[43m)\u001b[49m\n",
            "File \u001b[0;32m/opt/miniconda3/lib/python3.9/site-packages/wandb/sdk/interface/interface_sock.py:46\u001b[0m, in \u001b[0;36mInterfaceSock._publish\u001b[0;34m(self, record, local)\u001b[0m\n\u001b[1;32m     44\u001b[0m \u001b[38;5;28;01mdef\u001b[39;00m \u001b[38;5;21m_publish\u001b[39m(\u001b[38;5;28mself\u001b[39m, record: \u001b[38;5;124m\"\u001b[39m\u001b[38;5;124mpb.Record\u001b[39m\u001b[38;5;124m\"\u001b[39m, local: Optional[\u001b[38;5;28mbool\u001b[39m] \u001b[38;5;241m=\u001b[39m \u001b[38;5;28;01mNone\u001b[39;00m) \u001b[38;5;241m-\u001b[39m\u001b[38;5;241m>\u001b[39m \u001b[38;5;28;01mNone\u001b[39;00m:\n\u001b[1;32m     45\u001b[0m     \u001b[38;5;28mself\u001b[39m\u001b[38;5;241m.\u001b[39m_assign(record)\n\u001b[0;32m---> 46\u001b[0m     \u001b[38;5;28;43mself\u001b[39;49m\u001b[38;5;241;43m.\u001b[39;49m\u001b[43m_sock_client\u001b[49m\u001b[38;5;241;43m.\u001b[39;49m\u001b[43msend_record_publish\u001b[49m\u001b[43m(\u001b[49m\u001b[43mrecord\u001b[49m\u001b[43m)\u001b[49m\n",
            "File \u001b[0;32m/opt/miniconda3/lib/python3.9/site-packages/wandb/sdk/lib/sock_client.py:224\u001b[0m, in \u001b[0;36mSockClient.send_record_publish\u001b[0;34m(self, record)\u001b[0m\n\u001b[1;32m    222\u001b[0m server_req\u001b[38;5;241m.\u001b[39mrequest_id \u001b[38;5;241m=\u001b[39m record\u001b[38;5;241m.\u001b[39mcontrol\u001b[38;5;241m.\u001b[39mmailbox_slot\n\u001b[1;32m    223\u001b[0m server_req\u001b[38;5;241m.\u001b[39mrecord_publish\u001b[38;5;241m.\u001b[39mCopyFrom(record)\n\u001b[0;32m--> 224\u001b[0m \u001b[38;5;28;43mself\u001b[39;49m\u001b[38;5;241;43m.\u001b[39;49m\u001b[43msend_server_request\u001b[49m\u001b[43m(\u001b[49m\u001b[43mserver_req\u001b[49m\u001b[43m)\u001b[49m\n",
            "File \u001b[0;32m/opt/miniconda3/lib/python3.9/site-packages/wandb/sdk/lib/sock_client.py:154\u001b[0m, in \u001b[0;36mSockClient.send_server_request\u001b[0;34m(self, msg)\u001b[0m\n\u001b[1;32m    153\u001b[0m \u001b[38;5;28;01mdef\u001b[39;00m \u001b[38;5;21msend_server_request\u001b[39m(\u001b[38;5;28mself\u001b[39m, msg: Any) \u001b[38;5;241m-\u001b[39m\u001b[38;5;241m>\u001b[39m \u001b[38;5;28;01mNone\u001b[39;00m:\n\u001b[0;32m--> 154\u001b[0m     \u001b[38;5;28;43mself\u001b[39;49m\u001b[38;5;241;43m.\u001b[39;49m\u001b[43m_send_message\u001b[49m\u001b[43m(\u001b[49m\u001b[43mmsg\u001b[49m\u001b[43m)\u001b[49m\n",
            "File \u001b[0;32m/opt/miniconda3/lib/python3.9/site-packages/wandb/sdk/lib/sock_client.py:151\u001b[0m, in \u001b[0;36mSockClient._send_message\u001b[0;34m(self, msg)\u001b[0m\n\u001b[1;32m    149\u001b[0m header \u001b[38;5;241m=\u001b[39m struct\u001b[38;5;241m.\u001b[39mpack(\u001b[38;5;124m\"\u001b[39m\u001b[38;5;124m<BI\u001b[39m\u001b[38;5;124m\"\u001b[39m, \u001b[38;5;28mord\u001b[39m(\u001b[38;5;124m\"\u001b[39m\u001b[38;5;124mW\u001b[39m\u001b[38;5;124m\"\u001b[39m), raw_size)\n\u001b[1;32m    150\u001b[0m \u001b[38;5;28;01mwith\u001b[39;00m \u001b[38;5;28mself\u001b[39m\u001b[38;5;241m.\u001b[39m_lock:\n\u001b[0;32m--> 151\u001b[0m     \u001b[38;5;28;43mself\u001b[39;49m\u001b[38;5;241;43m.\u001b[39;49m\u001b[43m_sendall_with_error_handle\u001b[49m\u001b[43m(\u001b[49m\u001b[43mheader\u001b[49m\u001b[43m \u001b[49m\u001b[38;5;241;43m+\u001b[39;49m\u001b[43m \u001b[49m\u001b[43mdata\u001b[49m\u001b[43m)\u001b[49m\n",
            "File \u001b[0;32m/opt/miniconda3/lib/python3.9/site-packages/wandb/sdk/lib/sock_client.py:130\u001b[0m, in \u001b[0;36mSockClient._sendall_with_error_handle\u001b[0;34m(self, data)\u001b[0m\n\u001b[1;32m    128\u001b[0m start_time \u001b[38;5;241m=\u001b[39m time\u001b[38;5;241m.\u001b[39mmonotonic()\n\u001b[1;32m    129\u001b[0m \u001b[38;5;28;01mtry\u001b[39;00m:\n\u001b[0;32m--> 130\u001b[0m     sent \u001b[38;5;241m=\u001b[39m \u001b[38;5;28;43mself\u001b[39;49m\u001b[38;5;241;43m.\u001b[39;49m\u001b[43m_sock\u001b[49m\u001b[38;5;241;43m.\u001b[39;49m\u001b[43msend\u001b[49m\u001b[43m(\u001b[49m\u001b[43mdata\u001b[49m\u001b[43m)\u001b[49m\n\u001b[1;32m    131\u001b[0m     \u001b[38;5;66;03m# sent equal to 0 indicates a closed socket\u001b[39;00m\n\u001b[1;32m    132\u001b[0m     \u001b[38;5;28;01mif\u001b[39;00m sent \u001b[38;5;241m==\u001b[39m \u001b[38;5;241m0\u001b[39m:\n",
            "\u001b[0;31mBrokenPipeError\u001b[0m: [Errno 32] Broken pipe"
          ]
        },
        {
          "name": "stdout",
          "output_type": "stream",
          "text": [
            "Error in callback <bound method _WandbInit._pause_backend of <wandb.sdk.wandb_init._WandbInit object at 0x395f91dc0>> (for post_run_cell):\n"
          ]
        },
        {
          "ename": "BrokenPipeError",
          "evalue": "[Errno 32] Broken pipe",
          "output_type": "error",
          "traceback": [
            "\u001b[0;31m---------------------------------------------------------------------------\u001b[0m",
            "\u001b[0;31mBrokenPipeError\u001b[0m                           Traceback (most recent call last)",
            "File \u001b[0;32m/opt/miniconda3/lib/python3.9/site-packages/wandb/sdk/wandb_init.py:565\u001b[0m, in \u001b[0;36m_WandbInit._pause_backend\u001b[0;34m(self, *args, **kwargs)\u001b[0m\n\u001b[1;32m    563\u001b[0m \u001b[38;5;28;01mif\u001b[39;00m \u001b[38;5;28mself\u001b[39m\u001b[38;5;241m.\u001b[39mbackend\u001b[38;5;241m.\u001b[39minterface \u001b[38;5;129;01mis\u001b[39;00m \u001b[38;5;129;01mnot\u001b[39;00m \u001b[38;5;28;01mNone\u001b[39;00m:\n\u001b[1;32m    564\u001b[0m     \u001b[38;5;28mself\u001b[39m\u001b[38;5;241m.\u001b[39m_logger\u001b[38;5;241m.\u001b[39minfo(\u001b[38;5;124m\"\u001b[39m\u001b[38;5;124mpausing backend\u001b[39m\u001b[38;5;124m\"\u001b[39m)  \u001b[38;5;66;03m# type: ignore\u001b[39;00m\n\u001b[0;32m--> 565\u001b[0m     \u001b[38;5;28;43mself\u001b[39;49m\u001b[38;5;241;43m.\u001b[39;49m\u001b[43mbackend\u001b[49m\u001b[38;5;241;43m.\u001b[39;49m\u001b[43minterface\u001b[49m\u001b[38;5;241;43m.\u001b[39;49m\u001b[43mpublish_pause\u001b[49m\u001b[43m(\u001b[49m\u001b[43m)\u001b[49m\n",
            "File \u001b[0;32m/opt/miniconda3/lib/python3.9/site-packages/wandb/sdk/interface/interface.py:771\u001b[0m, in \u001b[0;36mInterfaceBase.publish_pause\u001b[0;34m(self)\u001b[0m\n\u001b[1;32m    769\u001b[0m \u001b[38;5;28;01mdef\u001b[39;00m \u001b[38;5;21mpublish_pause\u001b[39m(\u001b[38;5;28mself\u001b[39m) \u001b[38;5;241m-\u001b[39m\u001b[38;5;241m>\u001b[39m \u001b[38;5;28;01mNone\u001b[39;00m:\n\u001b[1;32m    770\u001b[0m     pause \u001b[38;5;241m=\u001b[39m pb\u001b[38;5;241m.\u001b[39mPauseRequest()\n\u001b[0;32m--> 771\u001b[0m     \u001b[38;5;28;43mself\u001b[39;49m\u001b[38;5;241;43m.\u001b[39;49m\u001b[43m_publish_pause\u001b[49m\u001b[43m(\u001b[49m\u001b[43mpause\u001b[49m\u001b[43m)\u001b[49m\n",
            "File \u001b[0;32m/opt/miniconda3/lib/python3.9/site-packages/wandb/sdk/interface/interface_shared.py:297\u001b[0m, in \u001b[0;36mInterfaceShared._publish_pause\u001b[0;34m(self, pause)\u001b[0m\n\u001b[1;32m    295\u001b[0m \u001b[38;5;28;01mdef\u001b[39;00m \u001b[38;5;21m_publish_pause\u001b[39m(\u001b[38;5;28mself\u001b[39m, pause: pb\u001b[38;5;241m.\u001b[39mPauseRequest) \u001b[38;5;241m-\u001b[39m\u001b[38;5;241m>\u001b[39m \u001b[38;5;28;01mNone\u001b[39;00m:\n\u001b[1;32m    296\u001b[0m     rec \u001b[38;5;241m=\u001b[39m \u001b[38;5;28mself\u001b[39m\u001b[38;5;241m.\u001b[39m_make_request(pause\u001b[38;5;241m=\u001b[39mpause)\n\u001b[0;32m--> 297\u001b[0m     \u001b[38;5;28;43mself\u001b[39;49m\u001b[38;5;241;43m.\u001b[39;49m\u001b[43m_publish\u001b[49m\u001b[43m(\u001b[49m\u001b[43mrec\u001b[49m\u001b[43m)\u001b[49m\n",
            "File \u001b[0;32m/opt/miniconda3/lib/python3.9/site-packages/wandb/sdk/interface/interface_sock.py:46\u001b[0m, in \u001b[0;36mInterfaceSock._publish\u001b[0;34m(self, record, local)\u001b[0m\n\u001b[1;32m     44\u001b[0m \u001b[38;5;28;01mdef\u001b[39;00m \u001b[38;5;21m_publish\u001b[39m(\u001b[38;5;28mself\u001b[39m, record: \u001b[38;5;124m\"\u001b[39m\u001b[38;5;124mpb.Record\u001b[39m\u001b[38;5;124m\"\u001b[39m, local: Optional[\u001b[38;5;28mbool\u001b[39m] \u001b[38;5;241m=\u001b[39m \u001b[38;5;28;01mNone\u001b[39;00m) \u001b[38;5;241m-\u001b[39m\u001b[38;5;241m>\u001b[39m \u001b[38;5;28;01mNone\u001b[39;00m:\n\u001b[1;32m     45\u001b[0m     \u001b[38;5;28mself\u001b[39m\u001b[38;5;241m.\u001b[39m_assign(record)\n\u001b[0;32m---> 46\u001b[0m     \u001b[38;5;28;43mself\u001b[39;49m\u001b[38;5;241;43m.\u001b[39;49m\u001b[43m_sock_client\u001b[49m\u001b[38;5;241;43m.\u001b[39;49m\u001b[43msend_record_publish\u001b[49m\u001b[43m(\u001b[49m\u001b[43mrecord\u001b[49m\u001b[43m)\u001b[49m\n",
            "File \u001b[0;32m/opt/miniconda3/lib/python3.9/site-packages/wandb/sdk/lib/sock_client.py:224\u001b[0m, in \u001b[0;36mSockClient.send_record_publish\u001b[0;34m(self, record)\u001b[0m\n\u001b[1;32m    222\u001b[0m server_req\u001b[38;5;241m.\u001b[39mrequest_id \u001b[38;5;241m=\u001b[39m record\u001b[38;5;241m.\u001b[39mcontrol\u001b[38;5;241m.\u001b[39mmailbox_slot\n\u001b[1;32m    223\u001b[0m server_req\u001b[38;5;241m.\u001b[39mrecord_publish\u001b[38;5;241m.\u001b[39mCopyFrom(record)\n\u001b[0;32m--> 224\u001b[0m \u001b[38;5;28;43mself\u001b[39;49m\u001b[38;5;241;43m.\u001b[39;49m\u001b[43msend_server_request\u001b[49m\u001b[43m(\u001b[49m\u001b[43mserver_req\u001b[49m\u001b[43m)\u001b[49m\n",
            "File \u001b[0;32m/opt/miniconda3/lib/python3.9/site-packages/wandb/sdk/lib/sock_client.py:154\u001b[0m, in \u001b[0;36mSockClient.send_server_request\u001b[0;34m(self, msg)\u001b[0m\n\u001b[1;32m    153\u001b[0m \u001b[38;5;28;01mdef\u001b[39;00m \u001b[38;5;21msend_server_request\u001b[39m(\u001b[38;5;28mself\u001b[39m, msg: Any) \u001b[38;5;241m-\u001b[39m\u001b[38;5;241m>\u001b[39m \u001b[38;5;28;01mNone\u001b[39;00m:\n\u001b[0;32m--> 154\u001b[0m     \u001b[38;5;28;43mself\u001b[39;49m\u001b[38;5;241;43m.\u001b[39;49m\u001b[43m_send_message\u001b[49m\u001b[43m(\u001b[49m\u001b[43mmsg\u001b[49m\u001b[43m)\u001b[49m\n",
            "File \u001b[0;32m/opt/miniconda3/lib/python3.9/site-packages/wandb/sdk/lib/sock_client.py:151\u001b[0m, in \u001b[0;36mSockClient._send_message\u001b[0;34m(self, msg)\u001b[0m\n\u001b[1;32m    149\u001b[0m header \u001b[38;5;241m=\u001b[39m struct\u001b[38;5;241m.\u001b[39mpack(\u001b[38;5;124m\"\u001b[39m\u001b[38;5;124m<BI\u001b[39m\u001b[38;5;124m\"\u001b[39m, \u001b[38;5;28mord\u001b[39m(\u001b[38;5;124m\"\u001b[39m\u001b[38;5;124mW\u001b[39m\u001b[38;5;124m\"\u001b[39m), raw_size)\n\u001b[1;32m    150\u001b[0m \u001b[38;5;28;01mwith\u001b[39;00m \u001b[38;5;28mself\u001b[39m\u001b[38;5;241m.\u001b[39m_lock:\n\u001b[0;32m--> 151\u001b[0m     \u001b[38;5;28;43mself\u001b[39;49m\u001b[38;5;241;43m.\u001b[39;49m\u001b[43m_sendall_with_error_handle\u001b[49m\u001b[43m(\u001b[49m\u001b[43mheader\u001b[49m\u001b[43m \u001b[49m\u001b[38;5;241;43m+\u001b[39;49m\u001b[43m \u001b[49m\u001b[43mdata\u001b[49m\u001b[43m)\u001b[49m\n",
            "File \u001b[0;32m/opt/miniconda3/lib/python3.9/site-packages/wandb/sdk/lib/sock_client.py:130\u001b[0m, in \u001b[0;36mSockClient._sendall_with_error_handle\u001b[0;34m(self, data)\u001b[0m\n\u001b[1;32m    128\u001b[0m start_time \u001b[38;5;241m=\u001b[39m time\u001b[38;5;241m.\u001b[39mmonotonic()\n\u001b[1;32m    129\u001b[0m \u001b[38;5;28;01mtry\u001b[39;00m:\n\u001b[0;32m--> 130\u001b[0m     sent \u001b[38;5;241m=\u001b[39m \u001b[38;5;28;43mself\u001b[39;49m\u001b[38;5;241;43m.\u001b[39;49m\u001b[43m_sock\u001b[49m\u001b[38;5;241;43m.\u001b[39;49m\u001b[43msend\u001b[49m\u001b[43m(\u001b[49m\u001b[43mdata\u001b[49m\u001b[43m)\u001b[49m\n\u001b[1;32m    131\u001b[0m     \u001b[38;5;66;03m# sent equal to 0 indicates a closed socket\u001b[39;00m\n\u001b[1;32m    132\u001b[0m     \u001b[38;5;28;01mif\u001b[39;00m sent \u001b[38;5;241m==\u001b[39m \u001b[38;5;241m0\u001b[39m:\n",
            "\u001b[0;31mBrokenPipeError\u001b[0m: [Errno 32] Broken pipe"
          ]
        }
      ],
      "source": [
        "@torch.no_grad()\n",
        "def test_model(model, test_loader, criterion, class_names, device, checkpoint_dir=None):\n",
        "    model.eval()\n",
        "    test_loss = 0.0\n",
        "    correct = 0\n",
        "    total = 0\n",
        "    all_preds = []\n",
        "    all_targets = []\n",
        "    all_probs = []\n",
        "\n",
        "    class_correct = {class_name: 0 for class_name in class_names}\n",
        "    class_total = {class_name: 0 for class_name in class_names}\n",
        "\n",
        "    for data in test_loader:\n",
        "        inputs, targets = data\n",
        "        inputs, targets = inputs.to(device), targets.to(device)\n",
        "        outputs = model(inputs)\n",
        "        outputs_for_loss = outputs['out'] if isinstance(outputs, dict) and 'out' in outputs else outputs\n",
        "        loss = criterion(outputs_for_loss, targets)\n",
        "        test_loss += loss.item() * inputs.size(0)\n",
        "\n",
        "        probs = torch.nn.functional.softmax(outputs_for_loss, dim=1)\n",
        "        _, predicted = torch.max(outputs_for_loss, 1)\n",
        "\n",
        "        total += targets.size(0)\n",
        "        correct += (predicted == targets).sum().item()\n",
        "\n",
        "        for i in range(targets.size(0)):\n",
        "            label = targets[i].item()\n",
        "            pred = predicted[i].item()\n",
        "            class_name = class_names[label]\n",
        "            class_total[class_name] += 1\n",
        "            if pred == label:\n",
        "                class_correct[class_name] += 1\n",
        "\n",
        "        all_preds.extend(predicted.cpu().numpy())\n",
        "        all_targets.extend(targets.cpu().numpy())\n",
        "        all_probs.extend(probs.cpu().numpy())\n",
        "\n",
        "    test_loss /= len(test_loader.dataset)\n",
        "    test_acc = correct / total\n",
        "\n",
        "    class_accuracy = {\n",
        "        name: class_correct[name]/class_total[name] if class_total[name] > 0 else 0\n",
        "        for name in class_names\n",
        "    }\n",
        "\n",
        "    print(\"\\n\" + \"=\"*50)\n",
        "    print(\"TEST RESULTS\")\n",
        "    print(\"=\"*50)\n",
        "    print(f\"Test Loss: {test_loss:.4f}\")\n",
        "    print(f\"Test Accuracy: {test_acc:.4f} ({correct}/{total})\")\n",
        "    print(\"\\nPer-Class Accuracy:\")\n",
        "    for class_name in class_names:\n",
        "        print(f\" {class_name}: {class_accuracy[class_name]:.4f} ({class_correct[class_name]}/{class_total[class_name]})\")\n",
        "\n",
        "    return {\n",
        "        'test_loss': test_loss,\n",
        "        'test_accuracy': test_acc,\n",
        "        'class_accuracy': class_accuracy,\n",
        "        'predictions': all_preds,\n",
        "        'targets': all_targets,\n",
        "        'probabilities': all_probs\n",
        "    }\n"
      ]
    },
    {
      "cell_type": "code",
      "execution_count": 32,
      "metadata": {
        "colab": {
          "base_uri": "https://localhost:8080/"
        },
        "id": "TyEM7gzIKMcD",
        "outputId": "536b3b72-4abc-48b4-f275-1db1a9620ce2"
      },
      "outputs": [
        {
          "name": "stdout",
          "output_type": "stream",
          "text": [
            "Error in callback <bound method _WandbInit._resume_backend of <wandb.sdk.wandb_init._WandbInit object at 0x395f91dc0>> (for pre_run_cell):\n"
          ]
        },
        {
          "ename": "BrokenPipeError",
          "evalue": "[Errno 32] Broken pipe",
          "output_type": "error",
          "traceback": [
            "\u001b[0;31m---------------------------------------------------------------------------\u001b[0m",
            "\u001b[0;31mBrokenPipeError\u001b[0m                           Traceback (most recent call last)",
            "File \u001b[0;32m/opt/miniconda3/lib/python3.9/site-packages/wandb/sdk/wandb_init.py:570\u001b[0m, in \u001b[0;36m_WandbInit._resume_backend\u001b[0;34m(self, *args, **kwargs)\u001b[0m\n\u001b[1;32m    568\u001b[0m \u001b[38;5;28;01mif\u001b[39;00m \u001b[38;5;28mself\u001b[39m\u001b[38;5;241m.\u001b[39mbackend \u001b[38;5;129;01mis\u001b[39;00m \u001b[38;5;129;01mnot\u001b[39;00m \u001b[38;5;28;01mNone\u001b[39;00m \u001b[38;5;129;01mand\u001b[39;00m \u001b[38;5;28mself\u001b[39m\u001b[38;5;241m.\u001b[39mbackend\u001b[38;5;241m.\u001b[39minterface \u001b[38;5;129;01mis\u001b[39;00m \u001b[38;5;129;01mnot\u001b[39;00m \u001b[38;5;28;01mNone\u001b[39;00m:\n\u001b[1;32m    569\u001b[0m     \u001b[38;5;28mself\u001b[39m\u001b[38;5;241m.\u001b[39m_logger\u001b[38;5;241m.\u001b[39minfo(\u001b[38;5;124m\"\u001b[39m\u001b[38;5;124mresuming backend\u001b[39m\u001b[38;5;124m\"\u001b[39m)  \u001b[38;5;66;03m# type: ignore\u001b[39;00m\n\u001b[0;32m--> 570\u001b[0m     \u001b[38;5;28;43mself\u001b[39;49m\u001b[38;5;241;43m.\u001b[39;49m\u001b[43mbackend\u001b[49m\u001b[38;5;241;43m.\u001b[39;49m\u001b[43minterface\u001b[49m\u001b[38;5;241;43m.\u001b[39;49m\u001b[43mpublish_resume\u001b[49m\u001b[43m(\u001b[49m\u001b[43m)\u001b[49m\n",
            "File \u001b[0;32m/opt/miniconda3/lib/python3.9/site-packages/wandb/sdk/interface/interface.py:779\u001b[0m, in \u001b[0;36mInterfaceBase.publish_resume\u001b[0;34m(self)\u001b[0m\n\u001b[1;32m    777\u001b[0m \u001b[38;5;28;01mdef\u001b[39;00m \u001b[38;5;21mpublish_resume\u001b[39m(\u001b[38;5;28mself\u001b[39m) \u001b[38;5;241m-\u001b[39m\u001b[38;5;241m>\u001b[39m \u001b[38;5;28;01mNone\u001b[39;00m:\n\u001b[1;32m    778\u001b[0m     resume \u001b[38;5;241m=\u001b[39m pb\u001b[38;5;241m.\u001b[39mResumeRequest()\n\u001b[0;32m--> 779\u001b[0m     \u001b[38;5;28;43mself\u001b[39;49m\u001b[38;5;241;43m.\u001b[39;49m\u001b[43m_publish_resume\u001b[49m\u001b[43m(\u001b[49m\u001b[43mresume\u001b[49m\u001b[43m)\u001b[49m\n",
            "File \u001b[0;32m/opt/miniconda3/lib/python3.9/site-packages/wandb/sdk/interface/interface_shared.py:301\u001b[0m, in \u001b[0;36mInterfaceShared._publish_resume\u001b[0;34m(self, resume)\u001b[0m\n\u001b[1;32m    299\u001b[0m \u001b[38;5;28;01mdef\u001b[39;00m \u001b[38;5;21m_publish_resume\u001b[39m(\u001b[38;5;28mself\u001b[39m, resume: pb\u001b[38;5;241m.\u001b[39mResumeRequest) \u001b[38;5;241m-\u001b[39m\u001b[38;5;241m>\u001b[39m \u001b[38;5;28;01mNone\u001b[39;00m:\n\u001b[1;32m    300\u001b[0m     rec \u001b[38;5;241m=\u001b[39m \u001b[38;5;28mself\u001b[39m\u001b[38;5;241m.\u001b[39m_make_request(resume\u001b[38;5;241m=\u001b[39mresume)\n\u001b[0;32m--> 301\u001b[0m     \u001b[38;5;28;43mself\u001b[39;49m\u001b[38;5;241;43m.\u001b[39;49m\u001b[43m_publish\u001b[49m\u001b[43m(\u001b[49m\u001b[43mrec\u001b[49m\u001b[43m)\u001b[49m\n",
            "File \u001b[0;32m/opt/miniconda3/lib/python3.9/site-packages/wandb/sdk/interface/interface_sock.py:46\u001b[0m, in \u001b[0;36mInterfaceSock._publish\u001b[0;34m(self, record, local)\u001b[0m\n\u001b[1;32m     44\u001b[0m \u001b[38;5;28;01mdef\u001b[39;00m \u001b[38;5;21m_publish\u001b[39m(\u001b[38;5;28mself\u001b[39m, record: \u001b[38;5;124m\"\u001b[39m\u001b[38;5;124mpb.Record\u001b[39m\u001b[38;5;124m\"\u001b[39m, local: Optional[\u001b[38;5;28mbool\u001b[39m] \u001b[38;5;241m=\u001b[39m \u001b[38;5;28;01mNone\u001b[39;00m) \u001b[38;5;241m-\u001b[39m\u001b[38;5;241m>\u001b[39m \u001b[38;5;28;01mNone\u001b[39;00m:\n\u001b[1;32m     45\u001b[0m     \u001b[38;5;28mself\u001b[39m\u001b[38;5;241m.\u001b[39m_assign(record)\n\u001b[0;32m---> 46\u001b[0m     \u001b[38;5;28;43mself\u001b[39;49m\u001b[38;5;241;43m.\u001b[39;49m\u001b[43m_sock_client\u001b[49m\u001b[38;5;241;43m.\u001b[39;49m\u001b[43msend_record_publish\u001b[49m\u001b[43m(\u001b[49m\u001b[43mrecord\u001b[49m\u001b[43m)\u001b[49m\n",
            "File \u001b[0;32m/opt/miniconda3/lib/python3.9/site-packages/wandb/sdk/lib/sock_client.py:224\u001b[0m, in \u001b[0;36mSockClient.send_record_publish\u001b[0;34m(self, record)\u001b[0m\n\u001b[1;32m    222\u001b[0m server_req\u001b[38;5;241m.\u001b[39mrequest_id \u001b[38;5;241m=\u001b[39m record\u001b[38;5;241m.\u001b[39mcontrol\u001b[38;5;241m.\u001b[39mmailbox_slot\n\u001b[1;32m    223\u001b[0m server_req\u001b[38;5;241m.\u001b[39mrecord_publish\u001b[38;5;241m.\u001b[39mCopyFrom(record)\n\u001b[0;32m--> 224\u001b[0m \u001b[38;5;28;43mself\u001b[39;49m\u001b[38;5;241;43m.\u001b[39;49m\u001b[43msend_server_request\u001b[49m\u001b[43m(\u001b[49m\u001b[43mserver_req\u001b[49m\u001b[43m)\u001b[49m\n",
            "File \u001b[0;32m/opt/miniconda3/lib/python3.9/site-packages/wandb/sdk/lib/sock_client.py:154\u001b[0m, in \u001b[0;36mSockClient.send_server_request\u001b[0;34m(self, msg)\u001b[0m\n\u001b[1;32m    153\u001b[0m \u001b[38;5;28;01mdef\u001b[39;00m \u001b[38;5;21msend_server_request\u001b[39m(\u001b[38;5;28mself\u001b[39m, msg: Any) \u001b[38;5;241m-\u001b[39m\u001b[38;5;241m>\u001b[39m \u001b[38;5;28;01mNone\u001b[39;00m:\n\u001b[0;32m--> 154\u001b[0m     \u001b[38;5;28;43mself\u001b[39;49m\u001b[38;5;241;43m.\u001b[39;49m\u001b[43m_send_message\u001b[49m\u001b[43m(\u001b[49m\u001b[43mmsg\u001b[49m\u001b[43m)\u001b[49m\n",
            "File \u001b[0;32m/opt/miniconda3/lib/python3.9/site-packages/wandb/sdk/lib/sock_client.py:151\u001b[0m, in \u001b[0;36mSockClient._send_message\u001b[0;34m(self, msg)\u001b[0m\n\u001b[1;32m    149\u001b[0m header \u001b[38;5;241m=\u001b[39m struct\u001b[38;5;241m.\u001b[39mpack(\u001b[38;5;124m\"\u001b[39m\u001b[38;5;124m<BI\u001b[39m\u001b[38;5;124m\"\u001b[39m, \u001b[38;5;28mord\u001b[39m(\u001b[38;5;124m\"\u001b[39m\u001b[38;5;124mW\u001b[39m\u001b[38;5;124m\"\u001b[39m), raw_size)\n\u001b[1;32m    150\u001b[0m \u001b[38;5;28;01mwith\u001b[39;00m \u001b[38;5;28mself\u001b[39m\u001b[38;5;241m.\u001b[39m_lock:\n\u001b[0;32m--> 151\u001b[0m     \u001b[38;5;28;43mself\u001b[39;49m\u001b[38;5;241;43m.\u001b[39;49m\u001b[43m_sendall_with_error_handle\u001b[49m\u001b[43m(\u001b[49m\u001b[43mheader\u001b[49m\u001b[43m \u001b[49m\u001b[38;5;241;43m+\u001b[39;49m\u001b[43m \u001b[49m\u001b[43mdata\u001b[49m\u001b[43m)\u001b[49m\n",
            "File \u001b[0;32m/opt/miniconda3/lib/python3.9/site-packages/wandb/sdk/lib/sock_client.py:130\u001b[0m, in \u001b[0;36mSockClient._sendall_with_error_handle\u001b[0;34m(self, data)\u001b[0m\n\u001b[1;32m    128\u001b[0m start_time \u001b[38;5;241m=\u001b[39m time\u001b[38;5;241m.\u001b[39mmonotonic()\n\u001b[1;32m    129\u001b[0m \u001b[38;5;28;01mtry\u001b[39;00m:\n\u001b[0;32m--> 130\u001b[0m     sent \u001b[38;5;241m=\u001b[39m \u001b[38;5;28;43mself\u001b[39;49m\u001b[38;5;241;43m.\u001b[39;49m\u001b[43m_sock\u001b[49m\u001b[38;5;241;43m.\u001b[39;49m\u001b[43msend\u001b[49m\u001b[43m(\u001b[49m\u001b[43mdata\u001b[49m\u001b[43m)\u001b[49m\n\u001b[1;32m    131\u001b[0m     \u001b[38;5;66;03m# sent equal to 0 indicates a closed socket\u001b[39;00m\n\u001b[1;32m    132\u001b[0m     \u001b[38;5;28;01mif\u001b[39;00m sent \u001b[38;5;241m==\u001b[39m \u001b[38;5;241m0\u001b[39m:\n",
            "\u001b[0;31mBrokenPipeError\u001b[0m: [Errno 32] Broken pipe"
          ]
        },
        {
          "name": "stderr",
          "output_type": "stream",
          "text": [
            "/var/folders/_k/bg77t7g55md3qh0s5xdb7tg40000gn/T/ipykernel_68773/3907516700.py:3: FutureWarning: You are using `torch.load` with `weights_only=False` (the current default value), which uses the default pickle module implicitly. It is possible to construct malicious pickle data which will execute arbitrary code during unpickling (See https://github.com/pytorch/pytorch/blob/main/SECURITY.md#untrusted-models for more details). In a future release, the default value for `weights_only` will be flipped to `True`. This limits the functions that could be executed during unpickling. Arbitrary objects will no longer be allowed to be loaded via this mode unless they are explicitly allowlisted by the user via `torch.serialization.add_safe_globals`. We recommend you start setting `weights_only=True` for any use case where you don't have full control of the loaded file. Please open an issue on GitHub for any issues related to this experimental feature.\n",
            "  checkpoint = torch.load(best_model_path)\n"
          ]
        },
        {
          "name": "stdout",
          "output_type": "stream",
          "text": [
            "Loaded best model from epoch 1\n",
            "Error in callback <bound method _WandbInit._pause_backend of <wandb.sdk.wandb_init._WandbInit object at 0x395f91dc0>> (for post_run_cell):\n"
          ]
        },
        {
          "ename": "BrokenPipeError",
          "evalue": "[Errno 32] Broken pipe",
          "output_type": "error",
          "traceback": [
            "\u001b[0;31m---------------------------------------------------------------------------\u001b[0m",
            "\u001b[0;31mBrokenPipeError\u001b[0m                           Traceback (most recent call last)",
            "File \u001b[0;32m/opt/miniconda3/lib/python3.9/site-packages/wandb/sdk/wandb_init.py:565\u001b[0m, in \u001b[0;36m_WandbInit._pause_backend\u001b[0;34m(self, *args, **kwargs)\u001b[0m\n\u001b[1;32m    563\u001b[0m \u001b[38;5;28;01mif\u001b[39;00m \u001b[38;5;28mself\u001b[39m\u001b[38;5;241m.\u001b[39mbackend\u001b[38;5;241m.\u001b[39minterface \u001b[38;5;129;01mis\u001b[39;00m \u001b[38;5;129;01mnot\u001b[39;00m \u001b[38;5;28;01mNone\u001b[39;00m:\n\u001b[1;32m    564\u001b[0m     \u001b[38;5;28mself\u001b[39m\u001b[38;5;241m.\u001b[39m_logger\u001b[38;5;241m.\u001b[39minfo(\u001b[38;5;124m\"\u001b[39m\u001b[38;5;124mpausing backend\u001b[39m\u001b[38;5;124m\"\u001b[39m)  \u001b[38;5;66;03m# type: ignore\u001b[39;00m\n\u001b[0;32m--> 565\u001b[0m     \u001b[38;5;28;43mself\u001b[39;49m\u001b[38;5;241;43m.\u001b[39;49m\u001b[43mbackend\u001b[49m\u001b[38;5;241;43m.\u001b[39;49m\u001b[43minterface\u001b[49m\u001b[38;5;241;43m.\u001b[39;49m\u001b[43mpublish_pause\u001b[49m\u001b[43m(\u001b[49m\u001b[43m)\u001b[49m\n",
            "File \u001b[0;32m/opt/miniconda3/lib/python3.9/site-packages/wandb/sdk/interface/interface.py:771\u001b[0m, in \u001b[0;36mInterfaceBase.publish_pause\u001b[0;34m(self)\u001b[0m\n\u001b[1;32m    769\u001b[0m \u001b[38;5;28;01mdef\u001b[39;00m \u001b[38;5;21mpublish_pause\u001b[39m(\u001b[38;5;28mself\u001b[39m) \u001b[38;5;241m-\u001b[39m\u001b[38;5;241m>\u001b[39m \u001b[38;5;28;01mNone\u001b[39;00m:\n\u001b[1;32m    770\u001b[0m     pause \u001b[38;5;241m=\u001b[39m pb\u001b[38;5;241m.\u001b[39mPauseRequest()\n\u001b[0;32m--> 771\u001b[0m     \u001b[38;5;28;43mself\u001b[39;49m\u001b[38;5;241;43m.\u001b[39;49m\u001b[43m_publish_pause\u001b[49m\u001b[43m(\u001b[49m\u001b[43mpause\u001b[49m\u001b[43m)\u001b[49m\n",
            "File \u001b[0;32m/opt/miniconda3/lib/python3.9/site-packages/wandb/sdk/interface/interface_shared.py:297\u001b[0m, in \u001b[0;36mInterfaceShared._publish_pause\u001b[0;34m(self, pause)\u001b[0m\n\u001b[1;32m    295\u001b[0m \u001b[38;5;28;01mdef\u001b[39;00m \u001b[38;5;21m_publish_pause\u001b[39m(\u001b[38;5;28mself\u001b[39m, pause: pb\u001b[38;5;241m.\u001b[39mPauseRequest) \u001b[38;5;241m-\u001b[39m\u001b[38;5;241m>\u001b[39m \u001b[38;5;28;01mNone\u001b[39;00m:\n\u001b[1;32m    296\u001b[0m     rec \u001b[38;5;241m=\u001b[39m \u001b[38;5;28mself\u001b[39m\u001b[38;5;241m.\u001b[39m_make_request(pause\u001b[38;5;241m=\u001b[39mpause)\n\u001b[0;32m--> 297\u001b[0m     \u001b[38;5;28;43mself\u001b[39;49m\u001b[38;5;241;43m.\u001b[39;49m\u001b[43m_publish\u001b[49m\u001b[43m(\u001b[49m\u001b[43mrec\u001b[49m\u001b[43m)\u001b[49m\n",
            "File \u001b[0;32m/opt/miniconda3/lib/python3.9/site-packages/wandb/sdk/interface/interface_sock.py:46\u001b[0m, in \u001b[0;36mInterfaceSock._publish\u001b[0;34m(self, record, local)\u001b[0m\n\u001b[1;32m     44\u001b[0m \u001b[38;5;28;01mdef\u001b[39;00m \u001b[38;5;21m_publish\u001b[39m(\u001b[38;5;28mself\u001b[39m, record: \u001b[38;5;124m\"\u001b[39m\u001b[38;5;124mpb.Record\u001b[39m\u001b[38;5;124m\"\u001b[39m, local: Optional[\u001b[38;5;28mbool\u001b[39m] \u001b[38;5;241m=\u001b[39m \u001b[38;5;28;01mNone\u001b[39;00m) \u001b[38;5;241m-\u001b[39m\u001b[38;5;241m>\u001b[39m \u001b[38;5;28;01mNone\u001b[39;00m:\n\u001b[1;32m     45\u001b[0m     \u001b[38;5;28mself\u001b[39m\u001b[38;5;241m.\u001b[39m_assign(record)\n\u001b[0;32m---> 46\u001b[0m     \u001b[38;5;28;43mself\u001b[39;49m\u001b[38;5;241;43m.\u001b[39;49m\u001b[43m_sock_client\u001b[49m\u001b[38;5;241;43m.\u001b[39;49m\u001b[43msend_record_publish\u001b[49m\u001b[43m(\u001b[49m\u001b[43mrecord\u001b[49m\u001b[43m)\u001b[49m\n",
            "File \u001b[0;32m/opt/miniconda3/lib/python3.9/site-packages/wandb/sdk/lib/sock_client.py:224\u001b[0m, in \u001b[0;36mSockClient.send_record_publish\u001b[0;34m(self, record)\u001b[0m\n\u001b[1;32m    222\u001b[0m server_req\u001b[38;5;241m.\u001b[39mrequest_id \u001b[38;5;241m=\u001b[39m record\u001b[38;5;241m.\u001b[39mcontrol\u001b[38;5;241m.\u001b[39mmailbox_slot\n\u001b[1;32m    223\u001b[0m server_req\u001b[38;5;241m.\u001b[39mrecord_publish\u001b[38;5;241m.\u001b[39mCopyFrom(record)\n\u001b[0;32m--> 224\u001b[0m \u001b[38;5;28;43mself\u001b[39;49m\u001b[38;5;241;43m.\u001b[39;49m\u001b[43msend_server_request\u001b[49m\u001b[43m(\u001b[49m\u001b[43mserver_req\u001b[49m\u001b[43m)\u001b[49m\n",
            "File \u001b[0;32m/opt/miniconda3/lib/python3.9/site-packages/wandb/sdk/lib/sock_client.py:154\u001b[0m, in \u001b[0;36mSockClient.send_server_request\u001b[0;34m(self, msg)\u001b[0m\n\u001b[1;32m    153\u001b[0m \u001b[38;5;28;01mdef\u001b[39;00m \u001b[38;5;21msend_server_request\u001b[39m(\u001b[38;5;28mself\u001b[39m, msg: Any) \u001b[38;5;241m-\u001b[39m\u001b[38;5;241m>\u001b[39m \u001b[38;5;28;01mNone\u001b[39;00m:\n\u001b[0;32m--> 154\u001b[0m     \u001b[38;5;28;43mself\u001b[39;49m\u001b[38;5;241;43m.\u001b[39;49m\u001b[43m_send_message\u001b[49m\u001b[43m(\u001b[49m\u001b[43mmsg\u001b[49m\u001b[43m)\u001b[49m\n",
            "File \u001b[0;32m/opt/miniconda3/lib/python3.9/site-packages/wandb/sdk/lib/sock_client.py:151\u001b[0m, in \u001b[0;36mSockClient._send_message\u001b[0;34m(self, msg)\u001b[0m\n\u001b[1;32m    149\u001b[0m header \u001b[38;5;241m=\u001b[39m struct\u001b[38;5;241m.\u001b[39mpack(\u001b[38;5;124m\"\u001b[39m\u001b[38;5;124m<BI\u001b[39m\u001b[38;5;124m\"\u001b[39m, \u001b[38;5;28mord\u001b[39m(\u001b[38;5;124m\"\u001b[39m\u001b[38;5;124mW\u001b[39m\u001b[38;5;124m\"\u001b[39m), raw_size)\n\u001b[1;32m    150\u001b[0m \u001b[38;5;28;01mwith\u001b[39;00m \u001b[38;5;28mself\u001b[39m\u001b[38;5;241m.\u001b[39m_lock:\n\u001b[0;32m--> 151\u001b[0m     \u001b[38;5;28;43mself\u001b[39;49m\u001b[38;5;241;43m.\u001b[39;49m\u001b[43m_sendall_with_error_handle\u001b[49m\u001b[43m(\u001b[49m\u001b[43mheader\u001b[49m\u001b[43m \u001b[49m\u001b[38;5;241;43m+\u001b[39;49m\u001b[43m \u001b[49m\u001b[43mdata\u001b[49m\u001b[43m)\u001b[49m\n",
            "File \u001b[0;32m/opt/miniconda3/lib/python3.9/site-packages/wandb/sdk/lib/sock_client.py:130\u001b[0m, in \u001b[0;36mSockClient._sendall_with_error_handle\u001b[0;34m(self, data)\u001b[0m\n\u001b[1;32m    128\u001b[0m start_time \u001b[38;5;241m=\u001b[39m time\u001b[38;5;241m.\u001b[39mmonotonic()\n\u001b[1;32m    129\u001b[0m \u001b[38;5;28;01mtry\u001b[39;00m:\n\u001b[0;32m--> 130\u001b[0m     sent \u001b[38;5;241m=\u001b[39m \u001b[38;5;28;43mself\u001b[39;49m\u001b[38;5;241;43m.\u001b[39;49m\u001b[43m_sock\u001b[49m\u001b[38;5;241;43m.\u001b[39;49m\u001b[43msend\u001b[49m\u001b[43m(\u001b[49m\u001b[43mdata\u001b[49m\u001b[43m)\u001b[49m\n\u001b[1;32m    131\u001b[0m     \u001b[38;5;66;03m# sent equal to 0 indicates a closed socket\u001b[39;00m\n\u001b[1;32m    132\u001b[0m     \u001b[38;5;28;01mif\u001b[39;00m sent \u001b[38;5;241m==\u001b[39m \u001b[38;5;241m0\u001b[39m:\n",
            "\u001b[0;31mBrokenPipeError\u001b[0m: [Errno 32] Broken pipe"
          ]
        }
      ],
      "source": [
        "best_model_path = f\"{config['checkpoint_dir']}/best_model.pth\"\n",
        "if os.path.exists(best_model_path):\n",
        "    checkpoint = torch.load(best_model_path)\n",
        "    model.load_state_dict(checkpoint['model_state_dict'])\n",
        "    print(f\"Loaded best model from epoch {checkpoint.get('epoch', 'unknown')}\")"
      ]
    },
    {
      "cell_type": "code",
      "execution_count": null,
      "metadata": {
        "id": "BUyHcRfQUhBI"
      },
      "outputs": [
        {
          "name": "stdout",
          "output_type": "stream",
          "text": [
            "Error in callback <bound method _WandbInit._resume_backend of <wandb.sdk.wandb_init._WandbInit object at 0x395f91dc0>> (for pre_run_cell):\n"
          ]
        },
        {
          "ename": "BrokenPipeError",
          "evalue": "[Errno 32] Broken pipe",
          "output_type": "error",
          "traceback": [
            "\u001b[0;31m---------------------------------------------------------------------------\u001b[0m",
            "\u001b[0;31mBrokenPipeError\u001b[0m                           Traceback (most recent call last)",
            "File \u001b[0;32m/opt/miniconda3/lib/python3.9/site-packages/wandb/sdk/wandb_init.py:570\u001b[0m, in \u001b[0;36m_WandbInit._resume_backend\u001b[0;34m(self, *args, **kwargs)\u001b[0m\n\u001b[1;32m    568\u001b[0m \u001b[38;5;28;01mif\u001b[39;00m \u001b[38;5;28mself\u001b[39m\u001b[38;5;241m.\u001b[39mbackend \u001b[38;5;129;01mis\u001b[39;00m \u001b[38;5;129;01mnot\u001b[39;00m \u001b[38;5;28;01mNone\u001b[39;00m \u001b[38;5;129;01mand\u001b[39;00m \u001b[38;5;28mself\u001b[39m\u001b[38;5;241m.\u001b[39mbackend\u001b[38;5;241m.\u001b[39minterface \u001b[38;5;129;01mis\u001b[39;00m \u001b[38;5;129;01mnot\u001b[39;00m \u001b[38;5;28;01mNone\u001b[39;00m:\n\u001b[1;32m    569\u001b[0m     \u001b[38;5;28mself\u001b[39m\u001b[38;5;241m.\u001b[39m_logger\u001b[38;5;241m.\u001b[39minfo(\u001b[38;5;124m\"\u001b[39m\u001b[38;5;124mresuming backend\u001b[39m\u001b[38;5;124m\"\u001b[39m)  \u001b[38;5;66;03m# type: ignore\u001b[39;00m\n\u001b[0;32m--> 570\u001b[0m     \u001b[38;5;28;43mself\u001b[39;49m\u001b[38;5;241;43m.\u001b[39;49m\u001b[43mbackend\u001b[49m\u001b[38;5;241;43m.\u001b[39;49m\u001b[43minterface\u001b[49m\u001b[38;5;241;43m.\u001b[39;49m\u001b[43mpublish_resume\u001b[49m\u001b[43m(\u001b[49m\u001b[43m)\u001b[49m\n",
            "File \u001b[0;32m/opt/miniconda3/lib/python3.9/site-packages/wandb/sdk/interface/interface.py:779\u001b[0m, in \u001b[0;36mInterfaceBase.publish_resume\u001b[0;34m(self)\u001b[0m\n\u001b[1;32m    777\u001b[0m \u001b[38;5;28;01mdef\u001b[39;00m \u001b[38;5;21mpublish_resume\u001b[39m(\u001b[38;5;28mself\u001b[39m) \u001b[38;5;241m-\u001b[39m\u001b[38;5;241m>\u001b[39m \u001b[38;5;28;01mNone\u001b[39;00m:\n\u001b[1;32m    778\u001b[0m     resume \u001b[38;5;241m=\u001b[39m pb\u001b[38;5;241m.\u001b[39mResumeRequest()\n\u001b[0;32m--> 779\u001b[0m     \u001b[38;5;28;43mself\u001b[39;49m\u001b[38;5;241;43m.\u001b[39;49m\u001b[43m_publish_resume\u001b[49m\u001b[43m(\u001b[49m\u001b[43mresume\u001b[49m\u001b[43m)\u001b[49m\n",
            "File \u001b[0;32m/opt/miniconda3/lib/python3.9/site-packages/wandb/sdk/interface/interface_shared.py:301\u001b[0m, in \u001b[0;36mInterfaceShared._publish_resume\u001b[0;34m(self, resume)\u001b[0m\n\u001b[1;32m    299\u001b[0m \u001b[38;5;28;01mdef\u001b[39;00m \u001b[38;5;21m_publish_resume\u001b[39m(\u001b[38;5;28mself\u001b[39m, resume: pb\u001b[38;5;241m.\u001b[39mResumeRequest) \u001b[38;5;241m-\u001b[39m\u001b[38;5;241m>\u001b[39m \u001b[38;5;28;01mNone\u001b[39;00m:\n\u001b[1;32m    300\u001b[0m     rec \u001b[38;5;241m=\u001b[39m \u001b[38;5;28mself\u001b[39m\u001b[38;5;241m.\u001b[39m_make_request(resume\u001b[38;5;241m=\u001b[39mresume)\n\u001b[0;32m--> 301\u001b[0m     \u001b[38;5;28;43mself\u001b[39;49m\u001b[38;5;241;43m.\u001b[39;49m\u001b[43m_publish\u001b[49m\u001b[43m(\u001b[49m\u001b[43mrec\u001b[49m\u001b[43m)\u001b[49m\n",
            "File \u001b[0;32m/opt/miniconda3/lib/python3.9/site-packages/wandb/sdk/interface/interface_sock.py:46\u001b[0m, in \u001b[0;36mInterfaceSock._publish\u001b[0;34m(self, record, local)\u001b[0m\n\u001b[1;32m     44\u001b[0m \u001b[38;5;28;01mdef\u001b[39;00m \u001b[38;5;21m_publish\u001b[39m(\u001b[38;5;28mself\u001b[39m, record: \u001b[38;5;124m\"\u001b[39m\u001b[38;5;124mpb.Record\u001b[39m\u001b[38;5;124m\"\u001b[39m, local: Optional[\u001b[38;5;28mbool\u001b[39m] \u001b[38;5;241m=\u001b[39m \u001b[38;5;28;01mNone\u001b[39;00m) \u001b[38;5;241m-\u001b[39m\u001b[38;5;241m>\u001b[39m \u001b[38;5;28;01mNone\u001b[39;00m:\n\u001b[1;32m     45\u001b[0m     \u001b[38;5;28mself\u001b[39m\u001b[38;5;241m.\u001b[39m_assign(record)\n\u001b[0;32m---> 46\u001b[0m     \u001b[38;5;28;43mself\u001b[39;49m\u001b[38;5;241;43m.\u001b[39;49m\u001b[43m_sock_client\u001b[49m\u001b[38;5;241;43m.\u001b[39;49m\u001b[43msend_record_publish\u001b[49m\u001b[43m(\u001b[49m\u001b[43mrecord\u001b[49m\u001b[43m)\u001b[49m\n",
            "File \u001b[0;32m/opt/miniconda3/lib/python3.9/site-packages/wandb/sdk/lib/sock_client.py:224\u001b[0m, in \u001b[0;36mSockClient.send_record_publish\u001b[0;34m(self, record)\u001b[0m\n\u001b[1;32m    222\u001b[0m server_req\u001b[38;5;241m.\u001b[39mrequest_id \u001b[38;5;241m=\u001b[39m record\u001b[38;5;241m.\u001b[39mcontrol\u001b[38;5;241m.\u001b[39mmailbox_slot\n\u001b[1;32m    223\u001b[0m server_req\u001b[38;5;241m.\u001b[39mrecord_publish\u001b[38;5;241m.\u001b[39mCopyFrom(record)\n\u001b[0;32m--> 224\u001b[0m \u001b[38;5;28;43mself\u001b[39;49m\u001b[38;5;241;43m.\u001b[39;49m\u001b[43msend_server_request\u001b[49m\u001b[43m(\u001b[49m\u001b[43mserver_req\u001b[49m\u001b[43m)\u001b[49m\n",
            "File \u001b[0;32m/opt/miniconda3/lib/python3.9/site-packages/wandb/sdk/lib/sock_client.py:154\u001b[0m, in \u001b[0;36mSockClient.send_server_request\u001b[0;34m(self, msg)\u001b[0m\n\u001b[1;32m    153\u001b[0m \u001b[38;5;28;01mdef\u001b[39;00m \u001b[38;5;21msend_server_request\u001b[39m(\u001b[38;5;28mself\u001b[39m, msg: Any) \u001b[38;5;241m-\u001b[39m\u001b[38;5;241m>\u001b[39m \u001b[38;5;28;01mNone\u001b[39;00m:\n\u001b[0;32m--> 154\u001b[0m     \u001b[38;5;28;43mself\u001b[39;49m\u001b[38;5;241;43m.\u001b[39;49m\u001b[43m_send_message\u001b[49m\u001b[43m(\u001b[49m\u001b[43mmsg\u001b[49m\u001b[43m)\u001b[49m\n",
            "File \u001b[0;32m/opt/miniconda3/lib/python3.9/site-packages/wandb/sdk/lib/sock_client.py:151\u001b[0m, in \u001b[0;36mSockClient._send_message\u001b[0;34m(self, msg)\u001b[0m\n\u001b[1;32m    149\u001b[0m header \u001b[38;5;241m=\u001b[39m struct\u001b[38;5;241m.\u001b[39mpack(\u001b[38;5;124m\"\u001b[39m\u001b[38;5;124m<BI\u001b[39m\u001b[38;5;124m\"\u001b[39m, \u001b[38;5;28mord\u001b[39m(\u001b[38;5;124m\"\u001b[39m\u001b[38;5;124mW\u001b[39m\u001b[38;5;124m\"\u001b[39m), raw_size)\n\u001b[1;32m    150\u001b[0m \u001b[38;5;28;01mwith\u001b[39;00m \u001b[38;5;28mself\u001b[39m\u001b[38;5;241m.\u001b[39m_lock:\n\u001b[0;32m--> 151\u001b[0m     \u001b[38;5;28;43mself\u001b[39;49m\u001b[38;5;241;43m.\u001b[39;49m\u001b[43m_sendall_with_error_handle\u001b[49m\u001b[43m(\u001b[49m\u001b[43mheader\u001b[49m\u001b[43m \u001b[49m\u001b[38;5;241;43m+\u001b[39;49m\u001b[43m \u001b[49m\u001b[43mdata\u001b[49m\u001b[43m)\u001b[49m\n",
            "File \u001b[0;32m/opt/miniconda3/lib/python3.9/site-packages/wandb/sdk/lib/sock_client.py:130\u001b[0m, in \u001b[0;36mSockClient._sendall_with_error_handle\u001b[0;34m(self, data)\u001b[0m\n\u001b[1;32m    128\u001b[0m start_time \u001b[38;5;241m=\u001b[39m time\u001b[38;5;241m.\u001b[39mmonotonic()\n\u001b[1;32m    129\u001b[0m \u001b[38;5;28;01mtry\u001b[39;00m:\n\u001b[0;32m--> 130\u001b[0m     sent \u001b[38;5;241m=\u001b[39m \u001b[38;5;28;43mself\u001b[39;49m\u001b[38;5;241;43m.\u001b[39;49m\u001b[43m_sock\u001b[49m\u001b[38;5;241;43m.\u001b[39;49m\u001b[43msend\u001b[49m\u001b[43m(\u001b[49m\u001b[43mdata\u001b[49m\u001b[43m)\u001b[49m\n\u001b[1;32m    131\u001b[0m     \u001b[38;5;66;03m# sent equal to 0 indicates a closed socket\u001b[39;00m\n\u001b[1;32m    132\u001b[0m     \u001b[38;5;28;01mif\u001b[39;00m sent \u001b[38;5;241m==\u001b[39m \u001b[38;5;241m0\u001b[39m:\n",
            "\u001b[0;31mBrokenPipeError\u001b[0m: [Errno 32] Broken pipe"
          ]
        }
      ],
      "source": [
        "test_model(model, test_loader, criterion, class_names, config['device'])"
      ]
    },
    {
      "cell_type": "code",
      "execution_count": null,
      "metadata": {
        "colab": {
          "base_uri": "https://localhost:8080/",
          "height": 528
        },
        "id": "mldq_w9VKMcD",
        "outputId": "67239288-e642-4efe-bd4a-a1ff69df81fb"
      },
      "outputs": [
        {
          "data": {
            "text/html": [],
            "text/plain": [
              "<IPython.core.display.HTML object>"
            ]
          },
          "metadata": {},
          "output_type": "display_data"
        },
        {
          "name": "stderr",
          "output_type": "stream",
          "text": [
            "\rTrain:   1%|          | 99/14993 [00:17<14:57, 16.60it/s, acc=38.9362%, loss=1.7867, lr=0.001000]"
          ]
        },
        {
          "data": {
            "text/html": [
              "<br>    <style><br>        .wandb-row {<br>            display: flex;<br>            flex-direction: row;<br>            flex-wrap: wrap;<br>            justify-content: flex-start;<br>            width: 100%;<br>        }<br>        .wandb-col {<br>            display: flex;<br>            flex-direction: column;<br>            flex-basis: 100%;<br>            flex: 1;<br>            padding: 10px;<br>        }<br>    </style><br><div class=\"wandb-row\"><div class=\"wandb-col\"><h3>Run history:</h3><br/><table class=\"wandb\"><tr><td>epoch</td><td>▁█</td></tr><tr><td>learning_rate</td><td>▁▁</td></tr><tr><td>train_acc</td><td>▁█</td></tr><tr><td>train_loss</td><td>█▁</td></tr><tr><td>val_acc</td><td>▁█</td></tr><tr><td>val_loss</td><td>█▁</td></tr></table><br/></div><div class=\"wandb-col\"><h3>Run summary:</h3><br/><table class=\"wandb\"><tr><td>epoch</td><td>2</td></tr><tr><td>learning_rate</td><td>0.001</td></tr><tr><td>train_acc</td><td>36.76726</td></tr><tr><td>train_loss</td><td>1.80355</td></tr><tr><td>val_acc</td><td>24.60289</td></tr><tr><td>val_loss</td><td>1.91094</td></tr></table><br/></div></div>"
            ],
            "text/plain": [
              "<IPython.core.display.HTML object>"
            ]
          },
          "metadata": {},
          "output_type": "display_data"
        },
        {
          "data": {
            "text/html": [
              " View run <strong style=\"color:#cdcd00\">18run</strong> at: <a href='https://wandb.ai/donggul-carnegie-mellon-university/object_classification/runs/4ylwubas' target=\"_blank\">https://wandb.ai/donggul-carnegie-mellon-university/object_classification/runs/4ylwubas</a><br> View project at: <a href='https://wandb.ai/donggul-carnegie-mellon-university/object_classification' target=\"_blank\">https://wandb.ai/donggul-carnegie-mellon-university/object_classification</a><br>Synced 5 W&B file(s), 0 media file(s), 0 artifact file(s) and 3 other file(s)"
            ],
            "text/plain": [
              "<IPython.core.display.HTML object>"
            ]
          },
          "metadata": {},
          "output_type": "display_data"
        },
        {
          "data": {
            "text/html": [
              "Find logs at: <code>./wandb/run-20250331_042025-4ylwubas/logs</code>"
            ],
            "text/plain": [
              "<IPython.core.display.HTML object>"
            ]
          },
          "metadata": {},
          "output_type": "display_data"
        }
      ],
      "source": [
        "run.finish()"
      ]
    },
    {
      "cell_type": "code",
      "execution_count": null,
      "metadata": {
        "id": "x_cJpaH4UjbX"
      },
      "outputs": [],
      "source": []
    }
  ],
  "metadata": {
    "accelerator": "GPU",
    "colab": {
      "gpuType": "T4",
      "provenance": []
    },
    "kernelspec": {
      "display_name": "base",
      "language": "python",
      "name": "python3"
    },
    "language_info": {
      "codemirror_mode": {
        "name": "ipython",
        "version": 3
      },
      "file_extension": ".py",
      "mimetype": "text/x-python",
      "name": "python",
      "nbconvert_exporter": "python",
      "pygments_lexer": "ipython3",
      "version": "3.9.19"
    }
  },
  "nbformat": 4,
  "nbformat_minor": 0
}
